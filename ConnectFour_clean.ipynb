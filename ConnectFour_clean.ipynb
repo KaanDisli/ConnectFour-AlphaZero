{
 "cells": [
  {
   "cell_type": "markdown",
   "metadata": {},
   "source": []
  },
  {
   "cell_type": "code",
   "execution_count": null,
   "metadata": {},
   "outputs": [
    {
     "data": {
      "text/plain": [
       "0"
      ]
     },
     "execution_count": 11,
     "metadata": {},
     "output_type": "execute_result"
    }
   ],
   "source": [
    "import torch\n",
    "import gc\n",
    "\n",
    "torch.cuda.empty_cache()  # Clears cached memory\n",
    "gc.collect()\n",
    "\n"
   ]
  },
  {
   "cell_type": "code",
   "execution_count": null,
   "metadata": {},
   "outputs": [
    {
     "name": "stdout",
     "output_type": "stream",
     "text": [
      "2.1.2\n",
      "2.5.1+cu121\n"
     ]
    }
   ],
   "source": [
    "\n",
    "\n",
    "import numpy as np\n",
    "print(np.__version__)\n",
    "\n",
    "\n",
    "import torch\n",
    "print(torch.__version__)\n",
    "\n",
    "import torch.nn as nn\n",
    "import torch.nn.functional as F\n",
    "\n",
    "torch.manual_seed(0)\n",
    "\n",
    "from tqdm.notebook import trange\n",
    "\n",
    "import random\n",
    "import math\n",
    "torch.manual_seed(0)\n",
    "device = torch.device(\"cuda\" if torch.cuda.is_available() else \"cpu\")\n",
    "from tqdm import trange\n",
    "import torch\n",
    "import gc\n"
   ]
  },
  {
   "cell_type": "code",
   "execution_count": 13,
   "metadata": {},
   "outputs": [],
   "source": [
    "class ConnectFour:\n",
    "    def __init__(self):\n",
    "        self.row_count = 6\n",
    "        self.column_count = 7\n",
    "        self.action_size = self.column_count\n",
    "        self.in_a_row = 4\n",
    "        \n",
    "    def __repr__(self):\n",
    "        return \"ConnectFour\"\n",
    "        \n",
    "    def get_initial_state(self):\n",
    "        return np.zeros((self.row_count, self.column_count))\n",
    "    \n",
    "    def get_next_state(self, state, action, player):\n",
    "        row = np.max(np.where(state[:, action] == 0))\n",
    "        state[row, action] = player\n",
    "        return state\n",
    "    \n",
    "    def get_valid_moves(self, state):\n",
    "        return (state[0] == 0).astype(np.uint8)\n",
    "    \n",
    "    def check_win(self, state, action):\n",
    "        if action == None:\n",
    "            return False\n",
    "        \n",
    "        row = np.min(np.where(state[:, action] != 0))\n",
    "        column = action\n",
    "        player = state[row][column]\n",
    "\n",
    "        def count(offset_row, offset_column):\n",
    "            for i in range(1, self.in_a_row):\n",
    "                r = row + offset_row * i\n",
    "                c = action + offset_column * i\n",
    "                if (\n",
    "                    r < 0 \n",
    "                    or r >= self.row_count\n",
    "                    or c < 0 \n",
    "                    or c >= self.column_count\n",
    "                    or state[r][c] != player\n",
    "                ):\n",
    "                    return i - 1\n",
    "            return self.in_a_row - 1\n",
    "\n",
    "        return (\n",
    "            count(1, 0) >= self.in_a_row - 1 # vertical\n",
    "            or (count(0, 1) + count(0, -1)) >= self.in_a_row - 1 # horizontal\n",
    "            or (count(1, 1) + count(-1, -1)) >= self.in_a_row - 1 # top left diagonal\n",
    "            or (count(1, -1) + count(-1, 1)) >= self.in_a_row - 1 # top right diagonal\n",
    "        )\n",
    "    \n",
    "    def get_value_and_terminated(self, state, action):\n",
    "        if self.check_win(state, action):\n",
    "            return 1, True\n",
    "        if np.sum(self.get_valid_moves(state)) == 0:\n",
    "            return 0, True\n",
    "        return 0, False\n",
    "    \n",
    "    def get_opponent(self, player):\n",
    "        return -player\n",
    "    \n",
    "    def get_opponent_value(self, value):\n",
    "        return -value\n",
    "    \n",
    "    def change_perspective(self, state, player):\n",
    "        return state * player\n",
    "    \n",
    "    def get_encoded_state(self, state):\n",
    "        encoded_state = np.stack(\n",
    "            (state == -1, state == 0, state == 1)\n",
    "        ).astype(np.float32)\n",
    "        \n",
    "        if len(state.shape) == 3:\n",
    "            encoded_state = np.swapaxes(encoded_state, 0, 1)\n",
    "        \n",
    "        return encoded_state"
   ]
  },
  {
   "cell_type": "code",
   "execution_count": 14,
   "metadata": {},
   "outputs": [],
   "source": [
    "class ResNet(nn.Module):\n",
    "\n",
    "    def __init__(self,game,num_resBlocks,num_hidden, in_channels):\n",
    "        super().__init__()\n",
    "        #input dimension is : 100x3x6x7 \n",
    "        #kernel = convolutional matrix \n",
    "        #num_hidden = number of filters\n",
    "        #kernel_size 3x3\n",
    "        self.num_resBlocks = num_resBlocks\n",
    "        self.in_channels = in_channels #this is the channel size of the matrice, the reason this is  3 because the cases where player 1 plays , where player 2 plays and nobody plays is represented by 3 different layers where each is represented by 1 and the rest being 0 for connect 4. \n",
    "        self.out_channels = num_hidden # channel size of the output not the width and length  \n",
    "        self.startBlock = nn.Sequential(\n",
    "            nn.Conv2d(self.in_channels,self.out_channels,kernel_size=3,padding=1), #3 6 7 -> num_hidden 6 7\n",
    "            nn.BatchNorm2d(self.out_channels),\n",
    "            nn.ReLU()\n",
    "        )\n",
    "        self.BackBone = nn.ModuleList([ResBlock(self.out_channels) for i in range(self.num_resBlocks)] ) #We use modulelist instead of sequential because it allows us to use skip connections \n",
    "        self.value_head = nn.Sequential(\n",
    "            nn.Conv2d(self.out_channels, 3, kernel_size=3, padding=1), #DONT KNOW WHY 32 yet may be empirical\n",
    "            nn.BatchNorm2d(3),\n",
    "            nn.ReLU(),\n",
    "            nn.Flatten(),\n",
    "            nn.Linear(3*game.row_count*game.column_count, 1),\n",
    "            nn.Tanh()  #value is between -1 and 1\n",
    "        )\n",
    "        self.policy_head = nn.Sequential(\n",
    "            nn.Conv2d(self.out_channels, 32, kernel_size=3, padding=1), #DONT KNOW WHY 32 yet \n",
    "            nn.BatchNorm2d(32),\n",
    "            nn.ReLU(),\n",
    "            nn.Flatten(),\n",
    "            nn.Linear(32*game.row_count*game.column_count, game.action_size), #the action size for each game may be different \n",
    "            \n",
    "        )\n",
    "        self.to(device)\n",
    "   \n",
    "\n",
    "    def forward(self,state): \n",
    "        \n",
    "        x = self.startBlock(state)\n",
    "        for block in self.BackBone:\n",
    "            x = block(x)  # Apply each ResBlock manually\n",
    "        policy = self.policy_head(x)\n",
    "        value = self.value_head(x)\n",
    "        return policy, value\n",
    "\n",
    "        \n",
    "\n",
    "class ResBlock(nn.Module):\n",
    "    def __init__(self,out_channels):\n",
    "        super().__init__()\n",
    "        self.out_channels = out_channels\n",
    "        self.Conv2d_1 = nn.Conv2d(self.out_channels,self.out_channels,kernel_size=3,padding=1)\n",
    "        self.BatchNorm_1 = nn.BatchNorm2d(self.out_channels)\n",
    "        self.Conv2d_2 = nn.Conv2d(self.out_channels,self.out_channels,kernel_size=3,padding=1)\n",
    "        self.BatchNorm_2 = nn.BatchNorm2d(self.out_channels)\n",
    "\n",
    "    def forward(self,x):\n",
    "        temp = x\n",
    "        x = self.BatchNorm_2(self.Conv2d_2(F.relu(self.BatchNorm_1(self.Conv2d_1(x)))))\n",
    "        x = temp + x\n",
    "        x = F.relu(x)\n",
    "        return x \n",
    "\n",
    "        \n"
   ]
  },
  {
   "cell_type": "code",
   "execution_count": 15,
   "metadata": {},
   "outputs": [],
   "source": [
    "class Node:\n",
    "     def __init__(self,state,args,transition_action, player,game):\n",
    "          self.state = state \n",
    "          self.nb_visits = 1\n",
    "          self.value  = 0 \n",
    "          self.prior_proba = 0\n",
    "          self.children = []\n",
    "          self.parent  = None \n",
    "          self.args = args      \n",
    "          self.transition_action = transition_action\n",
    "          self.player = player \n",
    "          self.game = game\n",
    "\n",
    "\n",
    "     def get_prior_proba(self):\n",
    "          return self.prior_proba\n",
    "     def get_player(self):\n",
    "          return self.player\n",
    "     def get_transition_action(self):\n",
    "          return self.transition_action\n",
    "\n",
    "     def get_visits(self):\n",
    "          return self.nb_visits\n",
    "     def get_state(self):\n",
    "          return self.state\n",
    "     def set_value(self, value ):\n",
    "          self.value = value\n",
    "\n",
    "     def get_value(self):\n",
    "          return self.value\n",
    "     def set_prior_proba(self,proba):\n",
    "          self.prior_proba = proba\n",
    "\n",
    "     def get_children(self):\n",
    "          return self.children\n",
    "\n",
    "     def add_child(self, child_node,transition_action):\n",
    "          self.children.append((child_node,transition_action))\n",
    "          child_node.set_parent(self)\n",
    "          \n",
    "     def set_parent(self, parent_node):\n",
    "          self.parent = parent_node\n",
    "\n",
    "     def get_parent(self):\n",
    "          return self.parent \n",
    "\n",
    "     def calc_PUCT(self):\n",
    "          parent = self.get_parent() \n",
    "          parent_visits = parent.get_visits()\n",
    "          if self.nb_visits == 0:\n",
    "            q_value = 0\n",
    "          else:\n",
    "               q_value = 1 - ((self.value / self.nb_visits) + 1) / 2\n",
    "          res = q_value + self.args['C'] * (math.sqrt(parent_visits) / (self.nb_visits + 1)) *  self.prior_proba\n",
    "          #print(f\"res with nb_visits = \",self.nb_visits, \" and parent_visits = \", parent_visits, \" is \", res)\n",
    "          return res\n",
    "\n",
    "     def choose_best_child(self):\n",
    "          \n",
    "          if self.children != []:\n",
    "               best_tuple = max(self.children, key=lambda item: item[0].calc_PUCT()) #we choose the best child node based on the highest PUCT value\n",
    "               best_child = best_tuple[0]\n",
    "               best_action = best_tuple[1]\n",
    "\n",
    "               return best_child, best_action\n",
    "          else :\n",
    "              return None, None\n",
    "\n",
    "\n",
    "     def increment_visit(self):\n",
    "          self.nb_visits += 1 \n",
    "\n",
    "     def add_value(self, value):\n",
    "          self.value += value \n",
    "     def selfPlay_policy(self):\n",
    "          action_size = 7\n",
    "          total_visits = sum(child[0].get_visits() for child in self.children) + 1e-8\n",
    "          policy = [0] * action_size\n",
    "\n",
    "          for child_node, _ in self.children:\n",
    "               action = child_node.get_transition_action()\n",
    "               if action is not None:\n",
    "                    # Use += in case there are multiple child nodes for the same action (edge case)\n",
    "                    policy[action] += child_node.get_visits() / total_visits\n",
    "\n",
    "          return policy\n",
    "\n",
    "     def is_fully_expanded(self):\n",
    "          if self.children == []:\n",
    "               return False\n",
    "          else:\n",
    "               return True\n",
    "                    \n",
    "     def expand(self,probas):\n",
    "          for i, proba in enumerate(probas) :  \n",
    "                #either we get all the actions or the all allowed actions I am not sure but the dimensions of the policy returned by the ResNet must equal the number of actions / states \n",
    "                if proba > 0 : \n",
    "                    child_state = self.state.copy()\n",
    "                    child_state = self.game.get_next_state(child_state, i, 1)\n",
    "                    child_state = self.game.change_perspective(child_state, player=-1)#dont forget to change the perspective every time a new node is added\n",
    "                    child_node = Node(child_state,self.args,i,self.player*-1,self.game)\n",
    "                    child_node.set_prior_proba(proba)\n",
    "                    child_node.set_parent(self)\n",
    "                    self.add_child(child_node,i)\n",
    "\n",
    "\n",
    "     def backpropagate(self, value):\n",
    "        self.value += value\n",
    "        self.nb_visits += 1\n",
    "        \n",
    "        value = self.game.get_opponent_value(value)\n",
    "        if self.parent is not None:\n",
    "            self.parent.backpropagate(value)  "
   ]
  },
  {
   "cell_type": "code",
   "execution_count": 22,
   "metadata": {},
   "outputs": [],
   "source": [
    "import time\n",
    "class MCTSParallel:\n",
    "\n",
    "    def __init__(self,game,args,model):\n",
    "        self.game =game \n",
    "        self.args = args\n",
    "        self.model=model \n",
    "\n",
    "\n",
    "    @torch.no_grad() # EXTREMELY IMPORTANT IF NOT THE GPU MEMORY FILLS UP\n",
    "    def search(self,states,spGames,player):\n",
    "            \n",
    "        start_time = time.time()\n",
    "        policies, values =  self.model.forward(torch.tensor(self.game.get_encoded_state(states), dtype=torch.float32, device=device))\n",
    "        policies = torch.softmax(policies, axis=1).cpu().numpy()\n",
    "        policies = (1 - self.args['dirichlet_epsilon']) * policies + self.args['dirichlet_epsilon'] \\\n",
    "        * np.random.dirichlet([self.args['dirichlet_alpha']] * self.game.action_size, size=policies.shape[0])\n",
    "        #for the current root state we are in in every game get its policy\n",
    "        valid_moves = np.array([self.game.get_valid_moves(state) for state in states])\n",
    "        #print(\"len(states) = \", len(states))\n",
    "        #print(\"len(spGames) = \", len(spGames))\n",
    "        for i in range(len(states)):\n",
    "            spGames[i].root = Node(states[i],self.args,None,player,self.game) #we create a new root node for each game and set its visit count to 1\n",
    "            policy = policies[i] * valid_moves[i] #we multiply the policy by the valid moves to get the valid policy\n",
    "            policy /= np.sum(policy) #we normalize thestates,spGames policy to get the probabilities of each action\n",
    "            spGames[i].root.expand(policy) # we only add the dirichlet noise at the root node\n",
    "\n",
    "\n",
    "        for _ in range(self.args[\"MCTS_iterations\"]):\n",
    "            for i in range(len(spGames)):\n",
    "                spGames[i].node = None\n",
    "                leaf_node = spGames[i].root\n",
    "                while leaf_node.is_fully_expanded():\n",
    "                    leaf_node, action_taken_by_opponent = leaf_node.choose_best_child() \n",
    "                #we go down the tree until we reach a leaf of the root node of the spgame\n",
    "                value, is_terminal = self.game.get_value_and_terminated(leaf_node.get_state(), leaf_node.transition_action)\n",
    "                value = self.game.get_opponent_value(value) \n",
    "                if is_terminal:\n",
    "                    leaf_node.set_value(value)\n",
    "                    leaf_node.backpropagate(value)\n",
    "                    spGames[i].node = None\n",
    "                else: \n",
    "                    spGames[i].node = leaf_node\n",
    "                #if we achieved a terminal state we backpropagate and this spgame is done if not we set spg.node to the leaf node to indicate that the game isnt over\n",
    "\n",
    "            not_finished_games =  [spGame for spGame in spGames if spGame.node != None]\n",
    "            #we get the not over games\n",
    "            if not_finished_games  == []:\n",
    "                continue \n",
    "            rollout_states = torch.tensor(\n",
    "                np.array([self.game.get_encoded_state(spGame.node.get_state()) for spGame in not_finished_games]),\n",
    "                dtype=torch.float32,\n",
    "                device=device  \n",
    "            )\n",
    "\n",
    "            policies, values = self.model.forward(rollout_states)\n",
    "            policies = torch.softmax(policies, axis=1).cpu().numpy()\n",
    "            values = values.cpu().numpy()\n",
    "            for i in range(len(not_finished_games)):\n",
    "                valid_moves  = self.game.get_valid_moves(not_finished_games[i].node.get_state())\n",
    "                true_policy = policies[i] * valid_moves\n",
    "                true_policy /= np.sum(true_policy) \n",
    "                value = values[i]\n",
    "                not_finished_games[i].node.set_value(value)\n",
    "                not_finished_games[i].node.backpropagate(value)\n",
    "                not_finished_games[i].node.expand(true_policy)\n",
    "            \n",
    "        duration = time.time() - start_time\n",
    "        \n",
    "         \n",
    "         \n",
    "         \n",
    "         \n",
    "        \n",
    "\n",
    "\n",
    "\n",
    "    "
   ]
  },
  {
   "cell_type": "code",
   "execution_count": 23,
   "metadata": {},
   "outputs": [],
   "source": [
    "def evaluate_vs_random(model, game, num_games=10):\n",
    "    \n",
    "    wins, draws, losses = 0, 0, 0\n",
    "\n",
    "    for _ in range(num_games):\n",
    "        state = game.get_initial_state()\n",
    "        player = 1\n",
    "        while True:\n",
    "            if player == 1:\n",
    "                # Model's turn\n",
    "                encoded = torch.tensor(game.get_encoded_state(state), dtype=torch.float32, device=device).unsqueeze(0)\n",
    "                with torch.no_grad():\n",
    "                    policy_logits, _ = model(encoded)\n",
    "                    policy = torch.softmax(policy_logits, dim=1).cpu().numpy()[0]\n",
    "                    valid_moves = game.get_valid_moves(state)\n",
    "                    policy *= valid_moves\n",
    "                    if policy.sum() == 0:\n",
    "                        policy = valid_moves / valid_moves.sum()\n",
    "                    else:\n",
    "                        policy /= policy.sum()\n",
    "                    action = np.random.choice(game.action_size, p=policy)\n",
    "\n",
    "            else:\n",
    "                # Random agent's turn\n",
    "                valid_moves = game.get_valid_moves(state)\n",
    "                action = np.random.choice(np.flatnonzero(valid_moves))\n",
    "\n",
    "            state = game.get_next_state(state, action, player)\n",
    "            value, is_terminal = game.get_value_and_terminated(state, action)\n",
    "            if is_terminal:\n",
    "                if value == 1:\n",
    "                    if player == 1:\n",
    "                        wins += 1\n",
    "                    else:\n",
    "                        losses += 1\n",
    "                else:\n",
    "                    draws += 1\n",
    "                break\n",
    "            player = game.get_opponent(player)\n",
    "\n",
    "    total = wins + draws + losses\n",
    "    print(f\"Model vs Random — Wins: {wins}, Draws: {draws}, Losses: {losses} ({total} games)\")\n"
   ]
  },
  {
   "cell_type": "code",
   "execution_count": 24,
   "metadata": {},
   "outputs": [],
   "source": [
    "\n",
    "class AlphaZeroParallel():\n",
    "\n",
    "\n",
    "\n",
    "    def __init__(self,game,args,model,optimizer):\n",
    "        self.game = game\n",
    "        self.model = model\n",
    "        self.args = args \n",
    "        self.replay_buffer = [] #we store the historical data for the neural network valeus to be corrected here \n",
    "        self.current_game_tree =  SPG(game,args)\n",
    "        self.optimizer = optimizer\n",
    "        self.MCTS = MCTSParallel(self.game,self.args,self.model)\n",
    "        self.value_losses = []\n",
    "        self.policy_losses = []\n",
    "        self.iterations = [0]\n",
    "    def game_of_SelfPlay(self,spGames): \n",
    "            return_memory = []\n",
    "            player  = 1\n",
    "            action = None\n",
    "            \n",
    "            self.model.eval()\n",
    "            to_remove = []\n",
    "            while len(spGames) > 0: \n",
    "                states = np.stack([spg.state for spg in spGames])\n",
    "                neutral_states = self.game.change_perspective(states, player)\n",
    "                self.MCTS.search(neutral_states,spGames,player)\n",
    "                \n",
    "                \n",
    "                for i in range(len(spGames))[::-1]:\n",
    "                    spg = spGames[i]\n",
    "                      \n",
    "                    single_policy = np.zeros(self.game.action_size)\n",
    "                    for child,action in spg.root.get_children():\n",
    "                        single_policy[action] = child.nb_visits\n",
    "                    single_policy /= np.sum(single_policy)\n",
    "\n",
    "\n",
    "                    \n",
    "                    \n",
    "\n",
    "                    true_policy = single_policy\n",
    "                    spGames[i].memory.append((spg.root.state,true_policy,player))\n",
    "\n",
    "                    #With high temperature: probabilities become more uniform\n",
    "                    #With low temperature: differences get exaggerated, making the highest probability action even more likely\n",
    "                    temperature_action_probs = single_policy ** (1 / self.args['temperature'])\n",
    "                    temperature_action_probs /= np.sum(temperature_action_probs)\n",
    "                    action = np.random.choice(len(temperature_action_probs), p=temperature_action_probs)\n",
    "                    spg.state = self.game.get_next_state(spg.state, action, player)\n",
    "                    \n",
    "                    game_value, is_terminal = self.game.get_value_and_terminated(spg.state, action)\n",
    "                    #once an spg is finished we store the data that we stored in spg.memory in the replay buffer with the value of the end game and we remove the spg from the list\n",
    "                    #no need to keep track of the node tree since every state is already stored inside the spg memory \n",
    "                    if is_terminal:\n",
    "                         #seems like we are either putting 1 or 0 as the value of the position instead of a non discrete value\n",
    "                         # Over time, the value target for a position becomes an average of many discrete outcomes, which can be a non-discrete float\n",
    "\n",
    "                        \n",
    "                        for hist_state,true_policy,hist_player in spg.memory:\n",
    "\n",
    "                            hist_outcome = game_value if hist_player == player else self.game.get_opponent_value(game_value)\n",
    "\n",
    "\n",
    "                            return_memory.append((\n",
    "                            self.game.get_encoded_state(hist_state),\n",
    "                            true_policy,\n",
    "                            hist_outcome))\n",
    "                        del spGames[i]\n",
    "                       \n",
    "                player = self.game.get_opponent(player)\n",
    "            return return_memory \n",
    "\n",
    "\n",
    "    def train(self,memory):\n",
    "            random.shuffle(memory)\n",
    "            for j in trange(0, len(memory),self.args[\"batch_size\"], desc=\"Training\", leave=False):\n",
    "                batch = memory[j:min(j+self.args[\"batch_size\"], len(memory))]\n",
    "                states, true_policies, values = zip(*batch)\n",
    "                states, true_policies, values = np.array(states), np.array(true_policies), np.array(values)\n",
    "                states = torch.tensor(states, dtype=torch.float32, device=device)\n",
    "                policy_targets = torch.tensor(true_policies, dtype=torch.float32, device=device)\n",
    "                value_targets = torch.tensor(values, dtype=torch.float32, device=device).view(-1, 1)\n",
    "                policy_logits, value_logits = self.model.forward(states)\n",
    "\n",
    "                policy_loss = F.cross_entropy(policy_logits,policy_targets)\n",
    "\n",
    "                value_loss = F.mse_loss(value_logits,value_targets)\n",
    "                loss = policy_loss + value_loss\n",
    "                self.optimizer.zero_grad()\n",
    "                loss.backward()\n",
    "                self.optimizer.step()\n",
    "\n",
    "                print(f\"value_loss : {value_loss}, policy_loss : {policy_loss}, loss : {loss}\")\n",
    "                self.value_losses.append(value_loss.item())\n",
    "                self.policy_losses.append(policy_loss.item())   \n",
    "                self.iterations.append(self.iterations[-1] + 1)\n",
    "\n",
    "\n",
    "    def learn(self):   \n",
    "\n",
    "        \n",
    "        if self.args[\"load_model\"] == True:\n",
    "            self.model.load_state_dict(torch.load(f\"model_{self.game}.pt\"))\n",
    "            self.optimizer.load_state_dict(torch.load(f\"optimizer_{self.game}.pt\"))   \n",
    "        for  i in range(self.args['iterations']):\n",
    "            memory = []\n",
    "            self.model.eval()\n",
    "            for i in trange(self.args['num_parallel_selfplays']):\n",
    "                start_time = time.time()\n",
    "                spGames = [SPG(self.game,self.args) for h in range(self.args[\"parallel_games\"])]     \n",
    "                memory += self.game_of_SelfPlay(spGames)\n",
    "                end_time = time.time()\n",
    "                print(f\"Self-play time: {end_time - start_time:.4f} seconds\") \n",
    "\n",
    "            \n",
    "            self.model.train()\n",
    "            \n",
    "            \n",
    "            for epoch in trange(self.args['num_epochs']): #without training ont he same data the value loss is very high \n",
    "                start_time = time.time()\n",
    "                self.train(memory)\n",
    "                end_time = time.time()\n",
    "                print(f\"Training time: {end_time - start_time:.4f} seconds\")\n",
    "            self.replay_buffer = []\n",
    "            if i % self.args[\"save_frequency\"] == 0:\n",
    "                #self.plot_metrics()\n",
    "                torch.save(self.model.state_dict(), f\"model_{self.game}.pt\")\n",
    "                torch.save(self.optimizer.state_dict(), f\"optimizer_{self.game}.pt\")\n",
    "\n",
    "            \n",
    "        \n",
    "\n",
    "    def plot_metrics(self, window=10):\n",
    "        import matplotlib.pyplot as plt\n",
    "        import numpy as np\n",
    "\n",
    "        def moving_average(data, window=10):\n",
    "            if len(data) < window:\n",
    "                return data  # Not enough data to smooth\n",
    "            return np.convolve(data, np.ones(window)/window, mode='valid')\n",
    "\n",
    "        plt.figure(figsize=(12, 8))\n",
    "\n",
    "        # Raw losses\n",
    "        plt.subplot(2, 1, 1)\n",
    "        plt.plot(self.iterations, self.value_losses, label='Value Loss (Raw)', alpha=0.3)\n",
    "        plt.plot(self.iterations, self.policy_losses, label='Policy Loss (Raw)', alpha=0.3)\n",
    "\n",
    "        # Smoothed losses\n",
    "        if len(self.value_losses) >= window:\n",
    "            smoothed_iter = self.iterations[window-1:]\n",
    "            plt.plot(smoothed_iter, moving_average(self.value_losses, window), label='Value Loss (Smoothed)', linewidth=2)\n",
    "            plt.plot(smoothed_iter, moving_average(self.policy_losses, window), label='Policy Loss (Smoothed)', linewidth=2)\n",
    "\n",
    "        plt.title('AlphaZero Training Losses')\n",
    "        plt.xlabel('Training Step')\n",
    "        plt.ylabel('Loss')\n",
    "        plt.legend()\n",
    "        plt.grid(True)\n",
    "\n",
    "        plt.tight_layout()\n",
    "        plt.savefig(f'alphazero_metrics_{len(self.iterations)}.png')\n",
    "        plt.close()\n",
    "\n",
    "            \n",
    "\n",
    "\n",
    "        \n",
    "    def free_memory(self):\n",
    "        torch.cuda.empty_cache()\n",
    "        gc.collect()\n",
    "class SPG():\n",
    "    \n",
    "    def __init__(self,game,args):\n",
    "        self.game = game\n",
    "        self.memory = []\n",
    "        self.state = game.get_initial_state()\n",
    "        self.root = None\n",
    "        self.node = None\n",
    "        \n",
    "\n",
    "\n",
    "         \n",
    "\n"
   ]
  },
  {
   "cell_type": "code",
   "execution_count": 25,
   "metadata": {},
   "outputs": [
    {
     "name": "stdout",
     "output_type": "stream",
     "text": [
      "Policy shape: torch.Size([1, 7])\n",
      "Value prediction: 0.31358757615089417\n",
      "Policy probs (sum): 0.9999999403953552\n",
      "Top move prob: 0.2724999785423279\n"
     ]
    }
   ],
   "source": [
    "#Testing the ResNet model\n",
    "\n",
    "game = ConnectFour()\n",
    "model = ResNet(game, 9, 128, 3).to(device)\n",
    "\n",
    "# Generate a dummy board\n",
    "state = game.get_initial_state()\n",
    "encoded = torch.tensor(game.get_encoded_state(state), dtype=torch.float32, device=device).unsqueeze(0)\n",
    "\n",
    "# Run a forward pass\n",
    "policy_logits, value = model(encoded)\n",
    "policy_probs = torch.softmax(policy_logits, dim=1)\n",
    "\n",
    "print(\"Policy shape:\", policy_probs.shape)\n",
    "print(\"Value prediction:\", value.item())\n",
    "print(\"Policy probs (sum):\", policy_probs.sum().item())\n",
    "print(\"Top move prob:\", policy_probs.max().item())\n"
   ]
  },
  {
   "cell_type": "code",
   "execution_count": null,
   "metadata": {},
   "outputs": [],
   "source": [
    "\n",
    "\n"
   ]
  },
  {
   "cell_type": "code",
   "execution_count": 28,
   "metadata": {},
   "outputs": [
    {
     "name": "stderr",
     "output_type": "stream",
     "text": [
      " 33%|███▎      | 1/3 [00:14<00:28, 14.06s/it]"
     ]
    },
    {
     "name": "stdout",
     "output_type": "stream",
     "text": [
      "Self-play time: 14.0550 seconds\n"
     ]
    },
    {
     "name": "stderr",
     "output_type": "stream",
     "text": [
      " 67%|██████▋   | 2/3 [00:29<00:14, 14.64s/it]"
     ]
    },
    {
     "name": "stdout",
     "output_type": "stream",
     "text": [
      "Self-play time: 15.0443 seconds\n"
     ]
    },
    {
     "name": "stderr",
     "output_type": "stream",
     "text": [
      "100%|██████████| 3/3 [00:42<00:00, 14.16s/it]\n"
     ]
    },
    {
     "name": "stdout",
     "output_type": "stream",
     "text": [
      "Self-play time: 13.3647 seconds\n"
     ]
    },
    {
     "name": "stderr",
     "output_type": "stream",
     "text": [
      "  0%|          | 0/4 [00:00<?, ?it/s]"
     ]
    },
    {
     "name": "stdout",
     "output_type": "stream",
     "text": [
      "value_loss : 1.1823277473449707, policy_loss : 1.8369135856628418, loss : 3.0192413330078125\n",
      "value_loss : 1.0567874908447266, policy_loss : 1.7667156457901, loss : 2.823503017425537\n",
      "value_loss : 1.1581363677978516, policy_loss : 1.7771810293197632, loss : 2.9353175163269043\n",
      "value_loss : 0.9728378057479858, policy_loss : 1.7365467548370361, loss : 2.7093844413757324\n",
      "value_loss : 0.9134865999221802, policy_loss : 1.730289101600647, loss : 2.643775701522827\n",
      "value_loss : 0.9631606340408325, policy_loss : 1.7593876123428345, loss : 2.722548246383667\n",
      "value_loss : 1.0798717737197876, policy_loss : 1.744468092918396, loss : 2.8243398666381836\n",
      "value_loss : 0.8950433135032654, policy_loss : 1.668638825416565, loss : 2.5636820793151855\n",
      "value_loss : 0.9125773906707764, policy_loss : 1.6620162725448608, loss : 2.5745935440063477\n",
      "value_loss : 0.8101966381072998, policy_loss : 1.7274324893951416, loss : 2.5376291275024414"
     ]
    },
    {
     "name": "stderr",
     "output_type": "stream",
     "text": []
    },
    {
     "name": "stdout",
     "output_type": "stream",
     "text": [
      "\n",
      "value_loss : 0.9357409477233887, policy_loss : 1.6489644050598145, loss : 2.584705352783203\n",
      "value_loss : 0.9021270275115967, policy_loss : 1.6546695232391357, loss : 2.5567965507507324\n",
      "value_loss : 0.8787024617195129, policy_loss : 1.6916865110397339, loss : 2.5703890323638916\n",
      "value_loss : 0.8731003999710083, policy_loss : 1.6628340482711792, loss : 2.5359344482421875\n",
      "value_loss : 0.8571949005126953, policy_loss : 1.7534157037734985, loss : 2.6106104850769043\n",
      "value_loss : 0.8834100365638733, policy_loss : 1.7037681341171265, loss : 2.5871782302856445\n",
      "value_loss : 0.8805159330368042, policy_loss : 1.7062580585479736, loss : 2.5867738723754883\n",
      "value_loss : 0.8434499502182007, policy_loss : 1.7030565738677979, loss : 2.546506404876709\n",
      "value_loss : 0.709043025970459, policy_loss : 1.661139965057373, loss : 2.370182991027832\n",
      "value_loss : 0.795081615447998, policy_loss : 1.6633126735687256, loss : 2.4583942890167236\n",
      "value_loss : 0.7909247875213623, policy_loss : 1.660342812538147, loss : 2.451267719268799\n",
      "value_loss : 0.7973042726516724, policy_loss : 1.6480469703674316, loss : 2.4453511238098145\n",
      "value_loss : 0.8810635805130005, policy_loss : 1.6861965656280518, loss : 2.567260265350342\n"
     ]
    },
    {
     "name": "stderr",
     "output_type": "stream",
     "text": [
      " 25%|██▌       | 1/4 [00:00<00:01,  2.20it/s]"
     ]
    },
    {
     "name": "stdout",
     "output_type": "stream",
     "text": [
      "value_loss : 0.7956019639968872, policy_loss : 1.6996363401412964, loss : 2.4952383041381836\n",
      "value_loss : 0.7308403253555298, policy_loss : 1.6468982696533203, loss : 2.3777384757995605\n",
      "Training time: 0.4542 seconds\n"
     ]
    },
    {
     "name": "stderr",
     "output_type": "stream",
     "text": []
    },
    {
     "name": "stdout",
     "output_type": "stream",
     "text": [
      "value_loss : 0.6299060583114624, policy_loss : 1.6350860595703125, loss : 2.2649922370910645\n",
      "value_loss : 0.7176581621170044, policy_loss : 1.6365132331848145, loss : 2.3541712760925293\n",
      "value_loss : 0.7592450380325317, policy_loss : 1.6087334156036377, loss : 2.367978572845459\n",
      "value_loss : 0.7049041986465454, policy_loss : 1.6243464946746826, loss : 2.3292508125305176\n",
      "value_loss : 0.6636881828308105, policy_loss : 1.7046828269958496, loss : 2.36837100982666\n",
      "value_loss : 0.7041165828704834, policy_loss : 1.6313984394073486, loss : 2.335515022277832\n",
      "value_loss : 0.7588774561882019, policy_loss : 1.663738489151001, loss : 2.4226160049438477\n",
      "value_loss : 0.6750226020812988, policy_loss : 1.6122972965240479, loss : 2.2873198986053467\n",
      "value_loss : 0.747003436088562, policy_loss : 1.6288268566131592, loss : 2.3758301734924316\n",
      "value_loss : 0.7628774642944336, policy_loss : 1.5722007751464844, loss : 2.335078239440918\n",
      "value_loss : 0.6772159337997437, policy_loss : 1.6655884981155396, loss : 2.342804431915283\n",
      "value_loss : 0.6255397200584412, policy_loss : 1.6110895872116089, loss : 2.2366292476654053\n",
      "value_loss : 0.6346381902694702, policy_loss : 1.6257745027542114, loss : 2.2604126930236816\n",
      "value_loss : 0.697834849357605, policy_loss : 1.5980148315429688, loss : 2.2958498001098633\n"
     ]
    },
    {
     "name": "stderr",
     "output_type": "stream",
     "text": [
      " 50%|█████     | 2/4 [00:00<00:00,  2.57it/s]"
     ]
    },
    {
     "name": "stdout",
     "output_type": "stream",
     "text": [
      "value_loss : 0.616707444190979, policy_loss : 1.6526342630386353, loss : 2.2693417072296143\n",
      "value_loss : 0.6755844354629517, policy_loss : 1.5751373767852783, loss : 2.2507219314575195\n",
      "value_loss : 0.6242223978042603, policy_loss : 1.6537812948226929, loss : 2.278003692626953\n",
      "value_loss : 0.6433529257774353, policy_loss : 1.6304421424865723, loss : 2.2737951278686523\n",
      "value_loss : 0.6314999461174011, policy_loss : 1.6605110168457031, loss : 2.292011022567749\n",
      "value_loss : 0.606552243232727, policy_loss : 1.6304632425308228, loss : 2.23701548576355\n",
      "value_loss : 0.5898105502128601, policy_loss : 1.5563817024230957, loss : 2.1461923122406006\n",
      "value_loss : 0.5665717720985413, policy_loss : 1.6295486688613892, loss : 2.196120500564575\n",
      "value_loss : 0.5312146544456482, policy_loss : 1.57249116897583, loss : 2.103705883026123\n",
      "value_loss : 0.6084048748016357, policy_loss : 1.5970878601074219, loss : 2.2054927349090576\n",
      "value_loss : 0.5754156708717346, policy_loss : 1.5927654504776, loss : 2.1681811809539795\n",
      "Training time: 0.3419 seconds\n"
     ]
    },
    {
     "name": "stderr",
     "output_type": "stream",
     "text": []
    },
    {
     "name": "stdout",
     "output_type": "stream",
     "text": [
      "value_loss : 0.5451517105102539, policy_loss : 1.546585202217102, loss : 2.0917367935180664\n",
      "value_loss : 0.582098126411438, policy_loss : 1.6013628244400024, loss : 2.1834609508514404\n",
      "value_loss : 0.5385464429855347, policy_loss : 1.620112419128418, loss : 2.158658981323242\n",
      "value_loss : 0.496907502412796, policy_loss : 1.6163241863250732, loss : 2.113231658935547\n"
     ]
    },
    {
     "name": "stderr",
     "output_type": "stream",
     "text": []
    },
    {
     "name": "stdout",
     "output_type": "stream",
     "text": [
      "value_loss : 0.49049288034439087, policy_loss : 1.6004717350006104, loss : 2.0909645557403564\n",
      "value_loss : 0.5129255652427673, policy_loss : 1.546703577041626, loss : 2.059629201889038\n",
      "value_loss : 0.569717526435852, policy_loss : 1.5177738666534424, loss : 2.087491512298584\n",
      "value_loss : 0.4466063976287842, policy_loss : 1.647383689880371, loss : 2.0939900875091553\n",
      "value_loss : 0.5381424427032471, policy_loss : 1.5582484006881714, loss : 2.096390724182129\n",
      "value_loss : 0.547368049621582, policy_loss : 1.6079223155975342, loss : 2.155290365219116\n",
      "value_loss : 0.4985571503639221, policy_loss : 1.5656383037567139, loss : 2.064195394515991\n",
      "value_loss : 0.47336405515670776, policy_loss : 1.6068661212921143, loss : 2.080230236053467\n",
      "value_loss : 0.47551339864730835, policy_loss : 1.6632492542266846, loss : 2.1387627124786377\n",
      "value_loss : 0.44230496883392334, policy_loss : 1.695399284362793, loss : 2.137704372406006\n"
     ]
    },
    {
     "name": "stderr",
     "output_type": "stream",
     "text": []
    },
    {
     "name": "stdout",
     "output_type": "stream",
     "text": [
      "value_loss : 0.4750975966453552, policy_loss : 1.6432843208312988, loss : 2.118381977081299\n",
      "value_loss : 0.4037204682826996, policy_loss : 1.605728030204773, loss : 2.009448528289795\n",
      "value_loss : 0.453392893075943, policy_loss : 1.55607008934021, loss : 2.00946307182312\n",
      "value_loss : 0.5185060501098633, policy_loss : 1.5801445245742798, loss : 2.0986504554748535\n",
      "value_loss : 0.5079233050346375, policy_loss : 1.6268889904022217, loss : 2.134812355041504\n",
      "value_loss : 0.5275699496269226, policy_loss : 1.6525253057479858, loss : 2.1800951957702637\n",
      "value_loss : 0.5505820512771606, policy_loss : 1.5975286960601807, loss : 2.148110866546631\n"
     ]
    },
    {
     "name": "stderr",
     "output_type": "stream",
     "text": [
      " 75%|███████▌  | 3/4 [00:01<00:00,  2.74it/s]"
     ]
    },
    {
     "name": "stdout",
     "output_type": "stream",
     "text": [
      "value_loss : 0.5415924787521362, policy_loss : 1.6150615215301514, loss : 2.156653881072998\n",
      "value_loss : 0.4057003855705261, policy_loss : 1.5997908115386963, loss : 2.005491256713867\n",
      "value_loss : 0.45528319478034973, policy_loss : 1.5684964656829834, loss : 2.0237796306610107\n",
      "value_loss : 0.44725480675697327, policy_loss : 1.5747325420379639, loss : 2.0219874382019043\n",
      "Training time: 0.3349 seconds\n"
     ]
    },
    {
     "name": "stderr",
     "output_type": "stream",
     "text": []
    },
    {
     "name": "stdout",
     "output_type": "stream",
     "text": [
      "value_loss : 0.3354978561401367, policy_loss : 1.6365798711776733, loss : 1.97207772731781\n",
      "value_loss : 0.5084593892097473, policy_loss : 1.6261720657348633, loss : 2.134631395339966\n",
      "value_loss : 0.45427852869033813, policy_loss : 1.5292139053344727, loss : 1.983492374420166\n",
      "value_loss : 0.4137284457683563, policy_loss : 1.615126371383667, loss : 2.0288548469543457\n",
      "value_loss : 0.4220670163631439, policy_loss : 1.5764920711517334, loss : 1.9985591173171997\n"
     ]
    },
    {
     "name": "stderr",
     "output_type": "stream",
     "text": []
    },
    {
     "name": "stdout",
     "output_type": "stream",
     "text": [
      "value_loss : 0.3881039619445801, policy_loss : 1.5375325679779053, loss : 1.9256365299224854\n",
      "value_loss : 0.3770122528076172, policy_loss : 1.5821175575256348, loss : 1.959129810333252\n",
      "value_loss : 0.3927724361419678, policy_loss : 1.5966206789016724, loss : 1.9893931150436401\n",
      "value_loss : 0.4639153480529785, policy_loss : 1.6563106775283813, loss : 2.1202259063720703\n",
      "value_loss : 0.37704816460609436, policy_loss : 1.5803571939468384, loss : 1.9574053287506104\n",
      "value_loss : 0.4383212625980377, policy_loss : 1.5920217037200928, loss : 2.0303430557250977\n",
      "value_loss : 0.4988807737827301, policy_loss : 1.619563102722168, loss : 2.1184439659118652\n",
      "value_loss : 0.4043952226638794, policy_loss : 1.6039981842041016, loss : 2.0083932876586914\n"
     ]
    },
    {
     "name": "stderr",
     "output_type": "stream",
     "text": [
      "\n"
     ]
    },
    {
     "name": "stdout",
     "output_type": "stream",
     "text": [
      "value_loss : 0.39668720960617065, policy_loss : 1.6078131198883057, loss : 2.004500389099121\n",
      "value_loss : 0.4016914367675781, policy_loss : 1.548994779586792, loss : 1.9506862163543701\n",
      "value_loss : 0.3839930295944214, policy_loss : 1.531896710395813, loss : 1.9158897399902344\n"
     ]
    },
    {
     "name": "stderr",
     "output_type": "stream",
     "text": [
      "Training:  64%|██████▍   | 16/25 [00:00<00:00, 78.86it/s]\u001b[A"
     ]
    },
    {
     "name": "stdout",
     "output_type": "stream",
     "text": [
      "value_loss : 0.45492541790008545, policy_loss : 1.6044666767120361, loss : 2.059391975402832\n",
      "value_loss : 0.4174244999885559, policy_loss : 1.5569590330123901, loss : 1.9743835926055908\n",
      "value_loss : 0.399835467338562, policy_loss : 1.5604066848754883, loss : 1.9602421522140503\n",
      "value_loss : 0.4600785970687866, policy_loss : 1.6158158779144287, loss : 2.075894355773926\n",
      "value_loss : 0.3463916480541229, policy_loss : 1.5423946380615234, loss : 1.8887863159179688\n"
     ]
    },
    {
     "name": "stderr",
     "output_type": "stream",
     "text": [
      "100%|██████████| 4/4 [00:01<00:00,  2.72it/s]"
     ]
    },
    {
     "name": "stdout",
     "output_type": "stream",
     "text": [
      "value_loss : 0.37209996581077576, policy_loss : 1.5763370990753174, loss : 1.9484370946884155\n",
      "value_loss : 0.4223073124885559, policy_loss : 1.5598418712615967, loss : 1.9821491241455078\n",
      "value_loss : 0.45906370878219604, policy_loss : 1.5586185455322266, loss : 2.0176823139190674\n",
      "value_loss : 0.46197009086608887, policy_loss : 1.5803719758987427, loss : 2.042342185974121\n",
      "Training time: 0.3349 seconds\n"
     ]
    },
    {
     "name": "stderr",
     "output_type": "stream",
     "text": [
      "\n",
      " 33%|███▎      | 1/3 [00:14<00:28, 14.11s/it]"
     ]
    },
    {
     "name": "stdout",
     "output_type": "stream",
     "text": [
      "Self-play time: 14.1120 seconds\n"
     ]
    },
    {
     "name": "stderr",
     "output_type": "stream",
     "text": [
      " 67%|██████▋   | 2/3 [00:28<00:14, 14.47s/it]"
     ]
    },
    {
     "name": "stdout",
     "output_type": "stream",
     "text": [
      "Self-play time: 14.7224 seconds\n"
     ]
    },
    {
     "name": "stderr",
     "output_type": "stream",
     "text": [
      "100%|██████████| 3/3 [00:43<00:00, 14.34s/it]\n"
     ]
    },
    {
     "name": "stdout",
     "output_type": "stream",
     "text": [
      "Self-play time: 14.1943 seconds\n"
     ]
    },
    {
     "name": "stderr",
     "output_type": "stream",
     "text": [
      "  0%|          | 0/4 [00:00<?, ?it/s]"
     ]
    },
    {
     "name": "stdout",
     "output_type": "stream",
     "text": [
      "value_loss : 1.3527565002441406, policy_loss : 1.6741493940353394, loss : 3.0269060134887695\n",
      "value_loss : 1.2267117500305176, policy_loss : 1.645777702331543, loss : 2.8724894523620605\n",
      "value_loss : 1.6286711692810059, policy_loss : 1.6895828247070312, loss : 3.318253993988037\n",
      "value_loss : 1.159376621246338, policy_loss : 1.6741411685943604, loss : 2.8335177898406982\n",
      "value_loss : 1.3642637729644775, policy_loss : 1.6940076351165771, loss : 3.0582714080810547\n",
      "value_loss : 1.2134582996368408, policy_loss : 1.7505005598068237, loss : 2.963958740234375\n",
      "value_loss : 1.2410991191864014, policy_loss : 1.690855622291565, loss : 2.931954860687256\n",
      "value_loss : 1.0284241437911987, policy_loss : 1.7249386310577393, loss : 2.7533626556396484\n",
      "value_loss : 1.0871953964233398, policy_loss : 1.6758205890655518, loss : 2.7630159854888916\n",
      "value_loss : 0.9566246271133423, policy_loss : 1.7132058143615723, loss : 2.669830322265625\n",
      "value_loss : 1.0949376821517944, policy_loss : 1.7051867246627808, loss : 2.800124406814575\n"
     ]
    },
    {
     "name": "stderr",
     "output_type": "stream",
     "text": []
    },
    {
     "name": "stdout",
     "output_type": "stream",
     "text": [
      "value_loss : 1.0862170457839966, policy_loss : 1.6955220699310303, loss : 2.7817392349243164\n",
      "value_loss : 0.8906598091125488, policy_loss : 1.6485093832015991, loss : 2.5391693115234375\n",
      "value_loss : 0.9387268424034119, policy_loss : 1.6783157587051392, loss : 2.6170425415039062\n",
      "value_loss : 0.8911329507827759, policy_loss : 1.6337484121322632, loss : 2.524881362915039\n",
      "value_loss : 0.8674293160438538, policy_loss : 1.7480978965759277, loss : 2.6155271530151367\n",
      "value_loss : 0.8209235072135925, policy_loss : 1.6974419355392456, loss : 2.5183653831481934\n",
      "value_loss : 0.7780333161354065, policy_loss : 1.7409842014312744, loss : 2.519017457962036\n",
      "value_loss : 0.849689781665802, policy_loss : 1.6790032386779785, loss : 2.5286929607391357\n",
      "value_loss : 0.8914187550544739, policy_loss : 1.7368137836456299, loss : 2.628232479095459\n",
      "value_loss : 0.8273991346359253, policy_loss : 1.6902990341186523, loss : 2.517698287963867\n",
      "value_loss : 0.8360800743103027, policy_loss : 1.7019803524017334, loss : 2.538060426712036\n",
      "value_loss : 0.8763974905014038, policy_loss : 1.714565396308899, loss : 2.5909628868103027\n",
      "value_loss : 0.7810849547386169, policy_loss : 1.7301862239837646, loss : 2.5112712383270264\n",
      "value_loss : 0.7985022664070129, policy_loss : 1.69725501537323, loss : 2.4957573413848877"
     ]
    },
    {
     "name": "stderr",
     "output_type": "stream",
     "text": [
      " 25%|██▌       | 1/4 [00:00<00:01,  2.34it/s]"
     ]
    },
    {
     "name": "stdout",
     "output_type": "stream",
     "text": [
      "\n",
      "Training time: 0.4281 seconds\n"
     ]
    },
    {
     "name": "stderr",
     "output_type": "stream",
     "text": []
    },
    {
     "name": "stdout",
     "output_type": "stream",
     "text": [
      "value_loss : 0.7577478885650635, policy_loss : 1.6197662353515625, loss : 2.377514123916626\n",
      "value_loss : 0.8019620180130005, policy_loss : 1.6715012788772583, loss : 2.473463296890259\n",
      "value_loss : 0.7456183433532715, policy_loss : 1.6837012767791748, loss : 2.4293196201324463\n",
      "value_loss : 0.7114191055297852, policy_loss : 1.666264295578003, loss : 2.377683401107788\n",
      "value_loss : 0.7991188764572144, policy_loss : 1.6523479223251343, loss : 2.4514667987823486\n",
      "value_loss : 0.7330420613288879, policy_loss : 1.6446197032928467, loss : 2.37766170501709\n",
      "value_loss : 0.8369641304016113, policy_loss : 1.6809489727020264, loss : 2.5179131031036377\n",
      "value_loss : 0.7312315702438354, policy_loss : 1.653867244720459, loss : 2.385098934173584\n",
      "value_loss : 0.7707316875457764, policy_loss : 1.6871811151504517, loss : 2.4579129219055176\n",
      "value_loss : 0.7576715350151062, policy_loss : 1.7162249088287354, loss : 2.4738965034484863\n",
      "value_loss : 0.7926550507545471, policy_loss : 1.6844520568847656, loss : 2.477107048034668\n",
      "value_loss : 0.7104915380477905, policy_loss : 1.6437379121780396, loss : 2.35422945022583\n",
      "value_loss : 0.6534464955329895, policy_loss : 1.6976059675216675, loss : 2.3510525226593018\n",
      "value_loss : 0.6179031133651733, policy_loss : 1.6972861289978027, loss : 2.3151893615722656\n",
      "value_loss : 0.6585548520088196, policy_loss : 1.70741605758667, loss : 2.3659708499908447"
     ]
    },
    {
     "name": "stderr",
     "output_type": "stream",
     "text": [
      " 50%|█████     | 2/4 [00:00<00:00,  2.65it/s]"
     ]
    },
    {
     "name": "stdout",
     "output_type": "stream",
     "text": [
      "\n",
      "value_loss : 0.6713281869888306, policy_loss : 1.6578007936477661, loss : 2.3291289806365967\n",
      "value_loss : 0.832976758480072, policy_loss : 1.6415517330169678, loss : 2.4745285511016846\n",
      "value_loss : 0.6870042681694031, policy_loss : 1.6178464889526367, loss : 2.3048508167266846\n",
      "value_loss : 0.8214417695999146, policy_loss : 1.6853035688400269, loss : 2.5067453384399414\n",
      "value_loss : 0.7795240879058838, policy_loss : 1.6817976236343384, loss : 2.4613218307495117\n",
      "value_loss : 0.6691800355911255, policy_loss : 1.6569932699203491, loss : 2.3261733055114746\n",
      "value_loss : 0.6707330942153931, policy_loss : 1.676177740097046, loss : 2.3469109535217285\n",
      "value_loss : 0.6594672203063965, policy_loss : 1.6724483966827393, loss : 2.3319156169891357\n",
      "value_loss : 0.6599459648132324, policy_loss : 1.606748104095459, loss : 2.2666940689086914\n",
      "value_loss : 0.6019773483276367, policy_loss : 1.7864710092544556, loss : 2.3884482383728027\n",
      "Training time: 0.3419 seconds\n"
     ]
    },
    {
     "name": "stderr",
     "output_type": "stream",
     "text": []
    },
    {
     "name": "stdout",
     "output_type": "stream",
     "text": [
      "value_loss : 0.5474697351455688, policy_loss : 1.6751185655593872, loss : 2.222588300704956\n",
      "value_loss : 0.6239785552024841, policy_loss : 1.6579740047454834, loss : 2.2819526195526123\n",
      "value_loss : 0.6135135889053345, policy_loss : 1.6476366519927979, loss : 2.261150360107422\n",
      "value_loss : 0.6001858711242676, policy_loss : 1.6655359268188477, loss : 2.2657217979431152\n"
     ]
    },
    {
     "name": "stderr",
     "output_type": "stream",
     "text": []
    },
    {
     "name": "stdout",
     "output_type": "stream",
     "text": [
      "value_loss : 0.5835425853729248, policy_loss : 1.6544506549835205, loss : 2.2379932403564453\n",
      "value_loss : 0.6736756563186646, policy_loss : 1.6160693168640137, loss : 2.2897448539733887\n",
      "value_loss : 0.6382839679718018, policy_loss : 1.6079918146133423, loss : 2.2462759017944336\n",
      "value_loss : 0.6075044870376587, policy_loss : 1.6721113920211792, loss : 2.279615879058838\n",
      "value_loss : 0.6100535988807678, policy_loss : 1.619735598564148, loss : 2.2297892570495605\n",
      "value_loss : 0.6923006772994995, policy_loss : 1.6639809608459473, loss : 2.3562817573547363\n",
      "value_loss : 0.5881505608558655, policy_loss : 1.6206530332565308, loss : 2.208803653717041\n",
      "value_loss : 0.5180503129959106, policy_loss : 1.6256260871887207, loss : 2.143676280975342\n",
      "value_loss : 0.56241774559021, policy_loss : 1.6745882034301758, loss : 2.2370059490203857\n",
      "value_loss : 0.6261540651321411, policy_loss : 1.598413348197937, loss : 2.224567413330078\n",
      "value_loss : 0.6014318466186523, policy_loss : 1.6852492094039917, loss : 2.2866811752319336\n",
      "value_loss : 0.6063112616539001, policy_loss : 1.6206802129745483, loss : 2.2269914150238037\n"
     ]
    },
    {
     "name": "stderr",
     "output_type": "stream",
     "text": []
    },
    {
     "name": "stdout",
     "output_type": "stream",
     "text": [
      "value_loss : 0.5321962833404541, policy_loss : 1.6733782291412354, loss : 2.2055745124816895\n",
      "value_loss : 0.6017597317695618, policy_loss : 1.6255344152450562, loss : 2.2272942066192627\n",
      "value_loss : 0.48488423228263855, policy_loss : 1.6534048318862915, loss : 2.138288974761963\n"
     ]
    },
    {
     "name": "stderr",
     "output_type": "stream",
     "text": [
      " 75%|███████▌  | 3/4 [00:01<00:00,  2.73it/s]"
     ]
    },
    {
     "name": "stdout",
     "output_type": "stream",
     "text": [
      "value_loss : 0.4822492003440857, policy_loss : 1.6125763654708862, loss : 2.094825506210327\n",
      "value_loss : 0.5774420499801636, policy_loss : 1.610020637512207, loss : 2.18746280670166\n",
      "value_loss : 0.5762717723846436, policy_loss : 1.6244940757751465, loss : 2.20076584815979\n",
      "value_loss : 0.5726511478424072, policy_loss : 1.6772972345352173, loss : 2.249948501586914\n",
      "value_loss : 0.6470995545387268, policy_loss : 1.7073769569396973, loss : 2.3544764518737793\n",
      "value_loss : 0.5791096687316895, policy_loss : 1.569559097290039, loss : 2.1486687660217285\n",
      "Training time: 0.3529 seconds\n"
     ]
    },
    {
     "name": "stderr",
     "output_type": "stream",
     "text": []
    },
    {
     "name": "stdout",
     "output_type": "stream",
     "text": [
      "value_loss : 0.47049862146377563, policy_loss : 1.6478242874145508, loss : 2.1183228492736816\n",
      "value_loss : 0.5305396318435669, policy_loss : 1.6257729530334473, loss : 2.1563124656677246\n",
      "value_loss : 0.5604848861694336, policy_loss : 1.6379506587982178, loss : 2.1984355449676514\n",
      "value_loss : 0.42059019207954407, policy_loss : 1.6283999681472778, loss : 2.048990249633789\n",
      "value_loss : 0.4858090877532959, policy_loss : 1.6390172243118286, loss : 2.124826431274414\n",
      "value_loss : 0.41433703899383545, policy_loss : 1.6332517862319946, loss : 2.04758882522583\n",
      "value_loss : 0.4303343594074249, policy_loss : 1.5972256660461426, loss : 2.027559995651245\n"
     ]
    },
    {
     "name": "stderr",
     "output_type": "stream",
     "text": []
    },
    {
     "name": "stdout",
     "output_type": "stream",
     "text": [
      "value_loss : 0.463527649641037, policy_loss : 1.6722605228424072, loss : 2.1357882022857666\n",
      "value_loss : 0.4878009557723999, policy_loss : 1.6470149755477905, loss : 2.1348159313201904\n",
      "value_loss : 0.4000297486782074, policy_loss : 1.6114678382873535, loss : 2.0114974975585938\n",
      "value_loss : 0.5443902611732483, policy_loss : 1.5873298645019531, loss : 2.1317200660705566\n",
      "value_loss : 0.6068990230560303, policy_loss : 1.6040904521942139, loss : 2.210989475250244\n",
      "value_loss : 0.4356144070625305, policy_loss : 1.6210832595825195, loss : 2.0566976070404053\n",
      "value_loss : 0.4374023973941803, policy_loss : 1.6584200859069824, loss : 2.09582257270813\n",
      "value_loss : 0.4758186936378479, policy_loss : 1.6281208992004395, loss : 2.1039395332336426\n"
     ]
    },
    {
     "name": "stderr",
     "output_type": "stream",
     "text": []
    },
    {
     "name": "stdout",
     "output_type": "stream",
     "text": [
      "value_loss : 0.4699063003063202, policy_loss : 1.6628401279449463, loss : 2.132746458053589\n",
      "value_loss : 0.4588453471660614, policy_loss : 1.6301498413085938, loss : 2.0889952182769775\n",
      "value_loss : 0.5481404066085815, policy_loss : 1.6366255283355713, loss : 2.1847658157348633\n",
      "value_loss : 0.39321190118789673, policy_loss : 1.6459002494812012, loss : 2.039112091064453\n",
      "value_loss : 0.5369107723236084, policy_loss : 1.6084010601043701, loss : 2.1453118324279785\n",
      "value_loss : 0.44580426812171936, policy_loss : 1.627313256263733, loss : 2.07311749458313\n",
      "value_loss : 0.3684749901294708, policy_loss : 1.622576117515564, loss : 1.9910510778427124"
     ]
    },
    {
     "name": "stderr",
     "output_type": "stream",
     "text": [
      "100%|██████████| 4/4 [00:01<00:00,  2.72it/s]\n"
     ]
    },
    {
     "name": "stdout",
     "output_type": "stream",
     "text": [
      "\n",
      "value_loss : 0.419325590133667, policy_loss : 1.6038234233856201, loss : 2.023149013519287\n",
      "value_loss : 0.5483461618423462, policy_loss : 1.6707000732421875, loss : 2.219046115875244\n",
      "value_loss : 0.6161051988601685, policy_loss : 1.620046615600586, loss : 2.236151695251465\n",
      "Training time: 0.3470 seconds\n"
     ]
    },
    {
     "name": "stderr",
     "output_type": "stream",
     "text": [
      " 33%|███▎      | 1/3 [00:13<00:27, 13.98s/it]"
     ]
    },
    {
     "name": "stdout",
     "output_type": "stream",
     "text": [
      "Self-play time: 13.9824 seconds\n"
     ]
    },
    {
     "name": "stderr",
     "output_type": "stream",
     "text": [
      " 67%|██████▋   | 2/3 [00:29<00:14, 14.72s/it]"
     ]
    },
    {
     "name": "stdout",
     "output_type": "stream",
     "text": [
      "Self-play time: 15.2302 seconds\n"
     ]
    },
    {
     "name": "stderr",
     "output_type": "stream",
     "text": [
      "100%|██████████| 3/3 [00:43<00:00, 14.62s/it]\n"
     ]
    },
    {
     "name": "stdout",
     "output_type": "stream",
     "text": [
      "Self-play time: 14.6573 seconds\n"
     ]
    },
    {
     "name": "stderr",
     "output_type": "stream",
     "text": [
      "  0%|          | 0/4 [00:00<?, ?it/s]"
     ]
    },
    {
     "name": "stdout",
     "output_type": "stream",
     "text": [
      "value_loss : 1.4170584678649902, policy_loss : 1.7888697385787964, loss : 3.205928325653076\n",
      "value_loss : 1.5877163410186768, policy_loss : 1.8034272193908691, loss : 3.391143560409546\n",
      "value_loss : 1.3180654048919678, policy_loss : 1.8485548496246338, loss : 3.1666202545166016\n",
      "value_loss : 1.2409234046936035, policy_loss : 1.7432279586791992, loss : 2.9841513633728027\n",
      "value_loss : 1.3750600814819336, policy_loss : 1.7713124752044678, loss : 3.1463725566864014\n",
      "value_loss : 1.2481203079223633, policy_loss : 1.8035582304000854, loss : 3.0516786575317383\n",
      "value_loss : 1.1748884916305542, policy_loss : 1.7486531734466553, loss : 2.92354154586792\n",
      "value_loss : 1.1028947830200195, policy_loss : 1.8079102039337158, loss : 2.9108049869537354\n",
      "value_loss : 0.9786896705627441, policy_loss : 1.7715024948120117, loss : 2.750192165374756\n",
      "value_loss : 1.0526872873306274, policy_loss : 1.7365047931671143, loss : 2.7891921997070312\n",
      "value_loss : 0.9683386087417603, policy_loss : 1.7708607912063599, loss : 2.73919939994812\n"
     ]
    },
    {
     "name": "stderr",
     "output_type": "stream",
     "text": []
    },
    {
     "name": "stdout",
     "output_type": "stream",
     "text": [
      "value_loss : 0.8827008008956909, policy_loss : 1.7497820854187012, loss : 2.6324830055236816\n",
      "value_loss : 0.8790159225463867, policy_loss : 1.7767133712768555, loss : 2.655729293823242\n",
      "value_loss : 0.8689312934875488, policy_loss : 1.7260715961456299, loss : 2.5950028896331787\n",
      "value_loss : 0.8626644611358643, policy_loss : 1.7119174003601074, loss : 2.5745818614959717\n",
      "value_loss : 0.8355367183685303, policy_loss : 1.7733182907104492, loss : 2.6088550090789795\n",
      "value_loss : 0.9384275078773499, policy_loss : 1.6859285831451416, loss : 2.6243560314178467\n",
      "value_loss : 0.8609916567802429, policy_loss : 1.78530752658844, loss : 2.646299123764038\n",
      "value_loss : 0.8094404935836792, policy_loss : 1.7587523460388184, loss : 2.568192958831787\n",
      "value_loss : 0.870201826095581, policy_loss : 1.7140631675720215, loss : 2.5842649936676025\n",
      "value_loss : 0.8309172987937927, policy_loss : 1.6840170621871948, loss : 2.5149343013763428\n",
      "value_loss : 0.8235062956809998, policy_loss : 1.7164324522018433, loss : 2.5399386882781982\n",
      "value_loss : 0.7459481358528137, policy_loss : 1.7106068134307861, loss : 2.456554889678955\n"
     ]
    },
    {
     "name": "stderr",
     "output_type": "stream",
     "text": [
      " 25%|██▌       | 1/4 [00:00<00:01,  2.55it/s]"
     ]
    },
    {
     "name": "stdout",
     "output_type": "stream",
     "text": [
      "Training time: 0.3920 seconds\n"
     ]
    },
    {
     "name": "stderr",
     "output_type": "stream",
     "text": []
    },
    {
     "name": "stdout",
     "output_type": "stream",
     "text": [
      "value_loss : 0.7838982343673706, policy_loss : 1.751308798789978, loss : 2.5352070331573486\n",
      "value_loss : 0.783166766166687, policy_loss : 1.7347502708435059, loss : 2.5179171562194824\n",
      "value_loss : 0.7083218097686768, policy_loss : 1.7524951696395874, loss : 2.4608168601989746\n",
      "value_loss : 0.8418108224868774, policy_loss : 1.6626899242401123, loss : 2.5045008659362793\n"
     ]
    },
    {
     "name": "stderr",
     "output_type": "stream",
     "text": []
    },
    {
     "name": "stdout",
     "output_type": "stream",
     "text": [
      "value_loss : 0.6641276478767395, policy_loss : 1.7110662460327148, loss : 2.3751938343048096\n",
      "value_loss : 0.7708821296691895, policy_loss : 1.708376407623291, loss : 2.4792585372924805\n",
      "value_loss : 0.6646997928619385, policy_loss : 1.7179245948791504, loss : 2.382624387741089\n",
      "value_loss : 0.680905282497406, policy_loss : 1.716918706893921, loss : 2.3978240489959717\n",
      "value_loss : 0.7628095746040344, policy_loss : 1.7407687902450562, loss : 2.5035784244537354\n",
      "value_loss : 0.6599283218383789, policy_loss : 1.7017052173614502, loss : 2.361633539199829\n",
      "value_loss : 0.7669855952262878, policy_loss : 1.7013143301010132, loss : 2.4682998657226562\n",
      "value_loss : 0.7525306940078735, policy_loss : 1.6919755935668945, loss : 2.4445061683654785\n",
      "value_loss : 0.7444390058517456, policy_loss : 1.6691073179244995, loss : 2.413546323776245\n",
      "value_loss : 0.7209075689315796, policy_loss : 1.6816112995147705, loss : 2.4025187492370605\n",
      "value_loss : 0.6290939450263977, policy_loss : 1.6946732997894287, loss : 2.3237671852111816\n"
     ]
    },
    {
     "name": "stderr",
     "output_type": "stream",
     "text": []
    },
    {
     "name": "stdout",
     "output_type": "stream",
     "text": [
      "value_loss : 0.7321035265922546, policy_loss : 1.739168643951416, loss : 2.4712722301483154\n",
      "value_loss : 0.5867869853973389, policy_loss : 1.644114375114441, loss : 2.2309012413024902\n",
      "value_loss : 0.5970683097839355, policy_loss : 1.7023847103118896, loss : 2.299453020095825\n",
      "value_loss : 0.7020319700241089, policy_loss : 1.6941392421722412, loss : 2.3961710929870605\n",
      "value_loss : 0.6302573680877686, policy_loss : 1.7467186450958252, loss : 2.3769760131835938\n"
     ]
    },
    {
     "name": "stderr",
     "output_type": "stream",
     "text": [
      " 50%|█████     | 2/4 [00:00<00:00,  2.90it/s]"
     ]
    },
    {
     "name": "stdout",
     "output_type": "stream",
     "text": [
      "value_loss : 0.605426013469696, policy_loss : 1.691173791885376, loss : 2.296599864959717\n",
      "value_loss : 0.6480416059494019, policy_loss : 1.6651034355163574, loss : 2.313145160675049\n",
      "value_loss : 0.5423365235328674, policy_loss : 1.7173329591751099, loss : 2.259669542312622\n",
      "Training time: 0.3108 seconds\n"
     ]
    },
    {
     "name": "stderr",
     "output_type": "stream",
     "text": [
      "\n"
     ]
    },
    {
     "name": "stdout",
     "output_type": "stream",
     "text": [
      "value_loss : 0.5234248042106628, policy_loss : 1.7099263668060303, loss : 2.233351230621338\n",
      "value_loss : 0.6285011768341064, policy_loss : 1.6929612159729004, loss : 2.321462392807007\n",
      "value_loss : 0.5192051529884338, policy_loss : 1.6696727275848389, loss : 2.188877820968628\n",
      "value_loss : 0.6158994436264038, policy_loss : 1.6463596820831299, loss : 2.262259006500244\n",
      "value_loss : 0.5698531866073608, policy_loss : 1.7016934156417847, loss : 2.2715466022491455\n",
      "value_loss : 0.5886840224266052, policy_loss : 1.6942594051361084, loss : 2.2829434871673584\n",
      "value_loss : 0.5415455102920532, policy_loss : 1.6660417318344116, loss : 2.207587242126465\n",
      "value_loss : 0.4995235800743103, policy_loss : 1.7192766666412354, loss : 2.2188003063201904\n"
     ]
    },
    {
     "name": "stderr",
     "output_type": "stream",
     "text": [
      "Training:  35%|███▍      | 8/23 [00:00<00:00, 74.57it/s]\u001b[A"
     ]
    },
    {
     "name": "stdout",
     "output_type": "stream",
     "text": [
      "value_loss : 0.554698646068573, policy_loss : 1.6475180387496948, loss : 2.202216625213623\n",
      "value_loss : 0.532560408115387, policy_loss : 1.6678180694580078, loss : 2.20037841796875\n",
      "value_loss : 0.5212934613227844, policy_loss : 1.675764799118042, loss : 2.1970582008361816\n",
      "value_loss : 0.5260790586471558, policy_loss : 1.6833299398422241, loss : 2.20940899848938\n"
     ]
    },
    {
     "name": "stderr",
     "output_type": "stream",
     "text": [
      "\n"
     ]
    },
    {
     "name": "stdout",
     "output_type": "stream",
     "text": [
      "value_loss : 0.5511417388916016, policy_loss : 1.6877522468566895, loss : 2.238893985748291\n",
      "value_loss : 0.5031396150588989, policy_loss : 1.6793572902679443, loss : 2.182497024536133\n",
      "value_loss : 0.47579413652420044, policy_loss : 1.6861693859100342, loss : 2.16196346282959\n",
      "value_loss : 0.3926469087600708, policy_loss : 1.6666874885559082, loss : 2.0593342781066895\n"
     ]
    },
    {
     "name": "stderr",
     "output_type": "stream",
     "text": [
      "Training:  70%|██████▉   | 16/23 [00:00<00:00, 74.57it/s]\u001b[A"
     ]
    },
    {
     "name": "stdout",
     "output_type": "stream",
     "text": [
      "value_loss : 0.5473217964172363, policy_loss : 1.6402225494384766, loss : 2.187544345855713\n",
      "value_loss : 0.5309868454933167, policy_loss : 1.712203025817871, loss : 2.243189811706543\n",
      "value_loss : 0.5360281467437744, policy_loss : 1.649030089378357, loss : 2.185058116912842\n",
      "value_loss : 0.5497732162475586, policy_loss : 1.690435767173767, loss : 2.2402091026306152\n",
      "value_loss : 0.4831180274486542, policy_loss : 1.7068045139312744, loss : 2.189922571182251\n",
      "value_loss : 0.4754030704498291, policy_loss : 1.6706982851028442, loss : 2.146101474761963\n",
      "value_loss : 0.5182491540908813, policy_loss : 1.7015166282653809, loss : 2.2197656631469727\n"
     ]
    },
    {
     "name": "stderr",
     "output_type": "stream",
     "text": [
      " 75%|███████▌  | 3/4 [00:01<00:00,  3.04it/s]"
     ]
    },
    {
     "name": "stdout",
     "output_type": "stream",
     "text": [
      "Training time: 0.3098 seconds\n"
     ]
    },
    {
     "name": "stderr",
     "output_type": "stream",
     "text": []
    },
    {
     "name": "stdout",
     "output_type": "stream",
     "text": [
      "value_loss : 0.38535064458847046, policy_loss : 1.6970144510269165, loss : 2.082365036010742\n",
      "value_loss : 0.43427979946136475, policy_loss : 1.6413512229919434, loss : 2.0756311416625977\n",
      "value_loss : 0.3791061043739319, policy_loss : 1.644432783126831, loss : 2.023538827896118\n",
      "value_loss : 0.4198684096336365, policy_loss : 1.6785354614257812, loss : 2.0984039306640625\n",
      "value_loss : 0.4515048861503601, policy_loss : 1.6942667961120605, loss : 2.1457717418670654\n"
     ]
    },
    {
     "name": "stderr",
     "output_type": "stream",
     "text": []
    },
    {
     "name": "stdout",
     "output_type": "stream",
     "text": [
      "value_loss : 0.41717106103897095, policy_loss : 1.6903260946273804, loss : 2.107497215270996\n",
      "value_loss : 0.3764253556728363, policy_loss : 1.625645399093628, loss : 2.002070665359497\n",
      "value_loss : 0.4471229314804077, policy_loss : 1.6530990600585938, loss : 2.100222110748291\n"
     ]
    },
    {
     "name": "stderr",
     "output_type": "stream",
     "text": [
      "\n"
     ]
    },
    {
     "name": "stdout",
     "output_type": "stream",
     "text": [
      "value_loss : 0.5753043293952942, policy_loss : 1.6630001068115234, loss : 2.238304376602173\n",
      "value_loss : 0.47146621346473694, policy_loss : 1.633175015449524, loss : 2.1046411991119385\n",
      "value_loss : 0.3553991913795471, policy_loss : 1.6384073495864868, loss : 1.9938066005706787\n",
      "value_loss : 0.41076362133026123, policy_loss : 1.6885535717010498, loss : 2.0993170738220215\n",
      "value_loss : 0.37228265404701233, policy_loss : 1.6715288162231445, loss : 2.043811559677124\n",
      "value_loss : 0.40152496099472046, policy_loss : 1.6307600736618042, loss : 2.03228497505188\n",
      "value_loss : 0.3978181481361389, policy_loss : 1.6749207973480225, loss : 2.0727388858795166\n",
      "value_loss : 0.4273252487182617, policy_loss : 1.6755762100219727, loss : 2.1029014587402344\n"
     ]
    },
    {
     "name": "stderr",
     "output_type": "stream",
     "text": [
      "Training:  70%|██████▉   | 16/23 [00:00<00:00, 77.64it/s]\u001b[A"
     ]
    },
    {
     "name": "stdout",
     "output_type": "stream",
     "text": [
      "value_loss : 0.4549158811569214, policy_loss : 1.6771968603134155, loss : 2.132112741470337\n",
      "value_loss : 0.509116530418396, policy_loss : 1.6471657752990723, loss : 2.156282424926758\n",
      "value_loss : 0.4343717694282532, policy_loss : 1.6007885932922363, loss : 2.0351603031158447\n",
      "value_loss : 0.3999074101448059, policy_loss : 1.725111484527588, loss : 2.125018835067749\n",
      "value_loss : 0.47532278299331665, policy_loss : 1.6392945051193237, loss : 2.114617347717285\n",
      "value_loss : 0.41793495416641235, policy_loss : 1.7146296501159668, loss : 2.1325645446777344\n",
      "value_loss : 0.3836328685283661, policy_loss : 1.6972987651824951, loss : 2.0809316635131836\n"
     ]
    },
    {
     "name": "stderr",
     "output_type": "stream",
     "text": [
      "100%|██████████| 4/4 [00:01<00:00,  3.04it/s]\n"
     ]
    },
    {
     "name": "stdout",
     "output_type": "stream",
     "text": [
      "Training time: 0.3018 seconds\n"
     ]
    },
    {
     "name": "stderr",
     "output_type": "stream",
     "text": [
      " 33%|███▎      | 1/3 [00:13<00:26, 13.29s/it]"
     ]
    },
    {
     "name": "stdout",
     "output_type": "stream",
     "text": [
      "Self-play time: 13.2865 seconds\n"
     ]
    },
    {
     "name": "stderr",
     "output_type": "stream",
     "text": [
      " 67%|██████▋   | 2/3 [00:28<00:14, 14.52s/it]"
     ]
    },
    {
     "name": "stdout",
     "output_type": "stream",
     "text": [
      "Self-play time: 15.3745 seconds\n"
     ]
    },
    {
     "name": "stderr",
     "output_type": "stream",
     "text": [
      "100%|██████████| 3/3 [00:42<00:00, 14.27s/it]\n"
     ]
    },
    {
     "name": "stdout",
     "output_type": "stream",
     "text": [
      "Self-play time: 14.1558 seconds\n"
     ]
    },
    {
     "name": "stderr",
     "output_type": "stream",
     "text": [
      "  0%|          | 0/4 [00:00<?, ?it/s]"
     ]
    },
    {
     "name": "stdout",
     "output_type": "stream",
     "text": [
      "value_loss : 1.283735752105713, policy_loss : 1.7309809923171997, loss : 3.014716625213623\n",
      "value_loss : 1.2887189388275146, policy_loss : 1.7872234582901, loss : 3.0759425163269043\n",
      "value_loss : 1.258488416671753, policy_loss : 1.766491174697876, loss : 3.024979591369629\n",
      "value_loss : 1.1999359130859375, policy_loss : 1.7234437465667725, loss : 2.92337965965271\n",
      "value_loss : 1.1790213584899902, policy_loss : 1.7962377071380615, loss : 2.9752590656280518\n",
      "value_loss : 1.1244925260543823, policy_loss : 1.7000364065170288, loss : 2.824528932571411\n",
      "value_loss : 1.0684077739715576, policy_loss : 1.7780258655548096, loss : 2.846433639526367\n",
      "value_loss : 1.0196418762207031, policy_loss : 1.7462705373764038, loss : 2.7659125328063965\n",
      "value_loss : 1.0750782489776611, policy_loss : 1.7493408918380737, loss : 2.8244190216064453\n",
      "value_loss : 0.952088475227356, policy_loss : 1.7737096548080444, loss : 2.7257981300354004\n",
      "value_loss : 0.9115665555000305, policy_loss : 1.7195143699645996, loss : 2.6310808658599854\n"
     ]
    },
    {
     "name": "stderr",
     "output_type": "stream",
     "text": [
      " 25%|██▌       | 1/4 [00:00<00:01,  2.61it/s]"
     ]
    },
    {
     "name": "stdout",
     "output_type": "stream",
     "text": [
      "value_loss : 1.035689353942871, policy_loss : 1.7471071481704712, loss : 2.7827963829040527\n",
      "value_loss : 0.9595586061477661, policy_loss : 1.6952242851257324, loss : 2.654782772064209\n",
      "value_loss : 0.9179577827453613, policy_loss : 1.7671259641647339, loss : 2.6850838661193848\n",
      "value_loss : 0.8873214721679688, policy_loss : 1.7389392852783203, loss : 2.626260757446289\n",
      "value_loss : 0.8416119813919067, policy_loss : 1.7308794260025024, loss : 2.572491407394409\n",
      "value_loss : 0.8943430185317993, policy_loss : 1.7573670148849487, loss : 2.651710033416748\n",
      "value_loss : 0.8380746841430664, policy_loss : 1.7670049667358398, loss : 2.6050796508789062\n",
      "value_loss : 0.8819734454154968, policy_loss : 1.7552047967910767, loss : 2.6371781826019287\n",
      "value_loss : 0.8510671854019165, policy_loss : 1.738586664199829, loss : 2.589653968811035\n",
      "value_loss : 0.9090803861618042, policy_loss : 1.738081693649292, loss : 2.6471619606018066\n",
      "value_loss : 0.9341316223144531, policy_loss : 1.7049403190612793, loss : 2.6390719413757324\n",
      "value_loss : 0.7937909364700317, policy_loss : 1.7477179765701294, loss : 2.541508913040161\n",
      "value_loss : 0.7668355703353882, policy_loss : 1.7809938192367554, loss : 2.5478293895721436\n",
      "Training time: 0.3830 seconds\n"
     ]
    },
    {
     "name": "stderr",
     "output_type": "stream",
     "text": []
    },
    {
     "name": "stdout",
     "output_type": "stream",
     "text": [
      "value_loss : 0.7494503259658813, policy_loss : 1.7450804710388184, loss : 2.49453067779541"
     ]
    },
    {
     "name": "stderr",
     "output_type": "stream",
     "text": [
      "\n"
     ]
    },
    {
     "name": "stdout",
     "output_type": "stream",
     "text": [
      "\n",
      "value_loss : 0.7179736495018005, policy_loss : 1.6795547008514404, loss : 2.3975284099578857\n",
      "value_loss : 0.7704556584358215, policy_loss : 1.7337846755981445, loss : 2.5042402744293213\n",
      "value_loss : 0.7577502727508545, policy_loss : 1.7404093742370605, loss : 2.498159646987915\n",
      "value_loss : 0.6757186055183411, policy_loss : 1.7204807996749878, loss : 2.3961994647979736\n",
      "value_loss : 0.6758483052253723, policy_loss : 1.7204794883728027, loss : 2.3963277339935303\n",
      "value_loss : 0.6901801824569702, policy_loss : 1.6677448749542236, loss : 2.3579249382019043\n",
      "value_loss : 0.6849328279495239, policy_loss : 1.7088346481323242, loss : 2.3937673568725586\n",
      "value_loss : 0.6096827983856201, policy_loss : 1.7410657405853271, loss : 2.3507485389709473\n",
      "value_loss : 0.7392497062683105, policy_loss : 1.7104228734970093, loss : 2.4496726989746094\n",
      "value_loss : 0.6606540679931641, policy_loss : 1.7244359254837036, loss : 2.385089874267578\n",
      "value_loss : 0.662279486656189, policy_loss : 1.7213001251220703, loss : 2.383579730987549\n",
      "value_loss : 0.665740430355072, policy_loss : 1.6884469985961914, loss : 2.354187488555908\n",
      "value_loss : 0.60213303565979, policy_loss : 1.7370483875274658, loss : 2.339181423187256\n",
      "value_loss : 0.679440438747406, policy_loss : 1.7233293056488037, loss : 2.4027698040008545\n",
      "value_loss : 0.6477006673812866, policy_loss : 1.6926090717315674, loss : 2.3403096199035645\n"
     ]
    },
    {
     "name": "stderr",
     "output_type": "stream",
     "text": [
      " 50%|█████     | 2/4 [00:00<00:00,  2.94it/s], 78.41it/s]\u001b[A"
     ]
    },
    {
     "name": "stdout",
     "output_type": "stream",
     "text": [
      "value_loss : 0.5737572312355042, policy_loss : 1.7588133811950684, loss : 2.3325705528259277\n",
      "value_loss : 0.6746416687965393, policy_loss : 1.6962952613830566, loss : 2.370936870574951\n",
      "value_loss : 0.561051070690155, policy_loss : 1.7165265083312988, loss : 2.2775776386260986\n",
      "value_loss : 0.595714807510376, policy_loss : 1.7040367126464844, loss : 2.2997515201568604\n",
      "value_loss : 0.6032118797302246, policy_loss : 1.6662834882736206, loss : 2.2694954872131348\n",
      "value_loss : 0.6374584436416626, policy_loss : 1.6420116424560547, loss : 2.2794699668884277\n",
      "value_loss : 0.6098543405532837, policy_loss : 1.659693956375122, loss : 2.2695484161376953\n",
      "value_loss : 0.5195930004119873, policy_loss : 1.7923517227172852, loss : 2.3119447231292725\n",
      "Training time: 0.3088 seconds\n"
     ]
    },
    {
     "name": "stderr",
     "output_type": "stream",
     "text": []
    },
    {
     "name": "stdout",
     "output_type": "stream",
     "text": [
      "value_loss : 0.5645244717597961, policy_loss : 1.6956830024719238, loss : 2.260207414627075\n",
      "value_loss : 0.44183146953582764, policy_loss : 1.6398355960845947, loss : 2.081666946411133\n",
      "value_loss : 0.5278784036636353, policy_loss : 1.6600779294967651, loss : 2.1879563331604004\n",
      "value_loss : 0.5293402075767517, policy_loss : 1.6675151586532593, loss : 2.196855306625366\n",
      "value_loss : 0.4670957326889038, policy_loss : 1.7136712074279785, loss : 2.180767059326172\n",
      "value_loss : 0.5992194414138794, policy_loss : 1.7090100049972534, loss : 2.308229446411133\n"
     ]
    },
    {
     "name": "stderr",
     "output_type": "stream",
     "text": []
    },
    {
     "name": "stdout",
     "output_type": "stream",
     "text": [
      "value_loss : 0.4667450189590454, policy_loss : 1.6738057136535645, loss : 2.1405506134033203\n",
      "value_loss : 0.49335765838623047, policy_loss : 1.6641671657562256, loss : 2.157524824142456\n",
      "value_loss : 0.43077296018600464, policy_loss : 1.7178380489349365, loss : 2.148611068725586\n",
      "value_loss : 0.4740327298641205, policy_loss : 1.6493966579437256, loss : 2.123429298400879\n",
      "value_loss : 0.5056734681129456, policy_loss : 1.6959638595581055, loss : 2.2016372680664062\n",
      "value_loss : 0.5001250505447388, policy_loss : 1.7085812091827393, loss : 2.2087063789367676\n",
      "value_loss : 0.41865724325180054, policy_loss : 1.6539533138275146, loss : 2.07261061668396\n",
      "value_loss : 0.5161932110786438, policy_loss : 1.6646443605422974, loss : 2.180837631225586\n",
      "value_loss : 0.5184741020202637, policy_loss : 1.732058048248291, loss : 2.2505321502685547\n",
      "value_loss : 0.5062040090560913, policy_loss : 1.6920814514160156, loss : 2.1982855796813965\n"
     ]
    },
    {
     "name": "stderr",
     "output_type": "stream",
     "text": []
    },
    {
     "name": "stdout",
     "output_type": "stream",
     "text": [
      "value_loss : 0.4048152565956116, policy_loss : 1.693216323852539, loss : 2.098031520843506\n",
      "value_loss : 0.4726599156856537, policy_loss : 1.7179179191589355, loss : 2.190577745437622\n",
      "value_loss : 0.5011160373687744, policy_loss : 1.7069092988967896, loss : 2.2080254554748535\n",
      "value_loss : 0.4523688852787018, policy_loss : 1.6834344863891602, loss : 2.135803461074829\n",
      "value_loss : 0.4653913378715515, policy_loss : 1.735471248626709, loss : 2.2008626461029053\n",
      "value_loss : 0.4998198449611664, policy_loss : 1.6681702136993408, loss : 2.16798996925354\n",
      "value_loss : 0.4296994209289551, policy_loss : 1.6840099096298218, loss : 2.1137094497680664\n",
      "value_loss : 0.487017422914505, policy_loss : 1.7046465873718262, loss : 2.191663980484009\n"
     ]
    },
    {
     "name": "stderr",
     "output_type": "stream",
     "text": [
      " 75%|███████▌  | 3/4 [00:01<00:00,  3.07it/s]"
     ]
    },
    {
     "name": "stdout",
     "output_type": "stream",
     "text": [
      "Training time: 0.3098 seconds\n"
     ]
    },
    {
     "name": "stderr",
     "output_type": "stream",
     "text": [
      "\n"
     ]
    },
    {
     "name": "stdout",
     "output_type": "stream",
     "text": [
      "value_loss : 0.44947683811187744, policy_loss : 1.6177995204925537, loss : 2.0672764778137207\n",
      "value_loss : 0.4064093232154846, policy_loss : 1.657321572303772, loss : 2.0637309551239014\n",
      "value_loss : 0.4389973282814026, policy_loss : 1.6450121402740479, loss : 2.0840094089508057\n",
      "value_loss : 0.3983997106552124, policy_loss : 1.6687893867492676, loss : 2.0671892166137695\n",
      "value_loss : 0.4495944678783417, policy_loss : 1.6655302047729492, loss : 2.1151247024536133\n",
      "value_loss : 0.4265667498111725, policy_loss : 1.642416000366211, loss : 2.0689828395843506\n",
      "value_loss : 0.4898934066295624, policy_loss : 1.633337140083313, loss : 2.123230457305908\n",
      "value_loss : 0.27900946140289307, policy_loss : 1.719405174255371, loss : 1.9984146356582642\n"
     ]
    },
    {
     "name": "stderr",
     "output_type": "stream",
     "text": [
      "Training:  33%|███▎      | 8/24 [00:00<00:00, 79.00it/s]\u001b[A\n"
     ]
    },
    {
     "name": "stdout",
     "output_type": "stream",
     "text": [
      "value_loss : 0.38423505425453186, policy_loss : 1.679713249206543, loss : 2.063948392868042\n",
      "value_loss : 0.3865034878253937, policy_loss : 1.6753475666046143, loss : 2.0618510246276855\n",
      "value_loss : 0.3537983000278473, policy_loss : 1.6622848510742188, loss : 2.016083240509033\n",
      "value_loss : 0.2947533130645752, policy_loss : 1.639070987701416, loss : 1.9338243007659912\n",
      "value_loss : 0.42661651968955994, policy_loss : 1.7173817157745361, loss : 2.143998146057129\n",
      "value_loss : 0.39325448870658875, policy_loss : 1.6684128046035767, loss : 2.0616672039031982\n",
      "value_loss : 0.43081673979759216, policy_loss : 1.6591925621032715, loss : 2.0900092124938965\n",
      "value_loss : 0.36130809783935547, policy_loss : 1.7022210359573364, loss : 2.0635290145874023\n"
     ]
    },
    {
     "name": "stderr",
     "output_type": "stream",
     "text": [
      "Training:  67%|██████▋   | 16/24 [00:00<00:00, 79.00it/s]\u001b[A"
     ]
    },
    {
     "name": "stdout",
     "output_type": "stream",
     "text": [
      "value_loss : 0.40217483043670654, policy_loss : 1.6795220375061035, loss : 2.0816969871520996\n",
      "value_loss : 0.3873981833457947, policy_loss : 1.6223511695861816, loss : 2.009749412536621\n",
      "value_loss : 0.5289700031280518, policy_loss : 1.6994746923446655, loss : 2.2284445762634277\n",
      "value_loss : 0.44854000210762024, policy_loss : 1.6890865564346313, loss : 2.1376266479492188\n",
      "value_loss : 0.44669467210769653, policy_loss : 1.6949833631515503, loss : 2.1416780948638916\n",
      "value_loss : 0.43832847476005554, policy_loss : 1.7226258516311646, loss : 2.160954236984253\n",
      "value_loss : 0.4094799757003784, policy_loss : 1.6473772525787354, loss : 2.056857109069824\n",
      "value_loss : 0.2753147780895233, policy_loss : 1.7019754648208618, loss : 1.9772902727127075\n"
     ]
    },
    {
     "name": "stderr",
     "output_type": "stream",
     "text": [
      "100%|██████████| 4/4 [00:01<00:00,  3.06it/s]\n"
     ]
    },
    {
     "name": "stdout",
     "output_type": "stream",
     "text": [
      "Training time: 0.3042 seconds\n"
     ]
    },
    {
     "name": "stderr",
     "output_type": "stream",
     "text": [
      " 33%|███▎      | 1/3 [00:12<00:25, 12.69s/it]"
     ]
    },
    {
     "name": "stdout",
     "output_type": "stream",
     "text": [
      "Self-play time: 12.6877 seconds\n"
     ]
    },
    {
     "name": "stderr",
     "output_type": "stream",
     "text": [
      " 67%|██████▋   | 2/3 [00:24<00:12, 12.04s/it]"
     ]
    },
    {
     "name": "stdout",
     "output_type": "stream",
     "text": [
      "Self-play time: 11.5919 seconds\n"
     ]
    },
    {
     "name": "stderr",
     "output_type": "stream",
     "text": [
      "100%|██████████| 3/3 [00:35<00:00, 11.69s/it]\n"
     ]
    },
    {
     "name": "stdout",
     "output_type": "stream",
     "text": [
      "Self-play time: 10.7760 seconds\n"
     ]
    },
    {
     "name": "stderr",
     "output_type": "stream",
     "text": [
      "  0%|          | 0/4 [00:00<?, ?it/s]"
     ]
    },
    {
     "name": "stdout",
     "output_type": "stream",
     "text": [
      "value_loss : 1.4747920036315918, policy_loss : 1.8364872932434082, loss : 3.311279296875\n",
      "value_loss : 1.1588640213012695, policy_loss : 1.8099732398986816, loss : 2.968837261199951\n",
      "value_loss : 1.1485267877578735, policy_loss : 1.8385868072509766, loss : 2.9871134757995605\n",
      "value_loss : 1.2500824928283691, policy_loss : 1.8335663080215454, loss : 3.083648681640625\n",
      "value_loss : 0.9419279098510742, policy_loss : 1.8492717742919922, loss : 2.7911996841430664\n",
      "value_loss : 1.0232902765274048, policy_loss : 1.8220008611679077, loss : 2.8452911376953125\n",
      "value_loss : 0.9970666170120239, policy_loss : 1.793522596359253, loss : 2.7905893325805664\n",
      "value_loss : 0.8356393575668335, policy_loss : 1.8200466632843018, loss : 2.6556859016418457\n",
      "value_loss : 0.917087197303772, policy_loss : 1.8024787902832031, loss : 2.7195658683776855\n",
      "value_loss : 1.0033714771270752, policy_loss : 1.7827571630477905, loss : 2.786128520965576\n",
      "value_loss : 0.8457778096199036, policy_loss : 1.791015386581421, loss : 2.6367931365966797\n",
      "value_loss : 0.7371418476104736, policy_loss : 1.8125264644622803, loss : 2.549668312072754\n",
      "value_loss : 0.8211460113525391, policy_loss : 1.7816487550735474, loss : 2.602794647216797\n"
     ]
    },
    {
     "name": "stderr",
     "output_type": "stream",
     "text": [
      " 25%|██▌       | 1/4 [00:00<00:00,  3.15it/s]"
     ]
    },
    {
     "name": "stdout",
     "output_type": "stream",
     "text": [
      "value_loss : 0.799107551574707, policy_loss : 1.8071372509002686, loss : 2.6062448024749756\n",
      "value_loss : 0.9061195254325867, policy_loss : 1.8158458471298218, loss : 2.7219653129577637\n",
      "value_loss : 0.6551600694656372, policy_loss : 1.8022286891937256, loss : 2.4573888778686523\n",
      "value_loss : 0.6309242248535156, policy_loss : 1.7840710878372192, loss : 2.4149951934814453\n",
      "value_loss : 0.8212370872497559, policy_loss : 1.7775988578796387, loss : 2.5988359451293945\n",
      "value_loss : 0.5858352184295654, policy_loss : 1.849182367324829, loss : 2.4350175857543945\n",
      "value_loss : 0.6728082895278931, policy_loss : 1.7843645811080933, loss : 2.4571728706359863\n",
      "value_loss : 0.8398182392120361, policy_loss : 1.7546594142913818, loss : 2.594477653503418\n",
      "value_loss : 0.7266848087310791, policy_loss : 1.7923039197921753, loss : 2.518988609313965\n",
      "value_loss : 0.7512423992156982, policy_loss : 1.648101806640625, loss : 2.3993442058563232\n",
      "Training time: 0.3178 seconds\n"
     ]
    },
    {
     "name": "stderr",
     "output_type": "stream",
     "text": []
    },
    {
     "name": "stdout",
     "output_type": "stream",
     "text": [
      "value_loss : 0.7272590398788452, policy_loss : 1.7614433765411377, loss : 2.4887022972106934\n",
      "value_loss : 0.5283776521682739, policy_loss : 1.7833149433135986, loss : 2.311692714691162\n",
      "value_loss : 0.5516999959945679, policy_loss : 1.803574800491333, loss : 2.3552746772766113\n",
      "value_loss : 0.6184170246124268, policy_loss : 1.7875884771347046, loss : 2.406005382537842\n",
      "value_loss : 0.5822972059249878, policy_loss : 1.7553753852844238, loss : 2.337672710418701\n",
      "value_loss : 0.6021788120269775, policy_loss : 1.7900139093399048, loss : 2.392192840576172\n",
      "value_loss : 0.5693762302398682, policy_loss : 1.7350720167160034, loss : 2.304448127746582\n"
     ]
    },
    {
     "name": "stderr",
     "output_type": "stream",
     "text": [
      "\n"
     ]
    },
    {
     "name": "stdout",
     "output_type": "stream",
     "text": [
      "value_loss : 0.6953251361846924, policy_loss : 1.7755990028381348, loss : 2.470924139022827\n",
      "value_loss : 0.6301935315132141, policy_loss : 1.7998360395431519, loss : 2.4300296306610107\n",
      "value_loss : 0.6409966945648193, policy_loss : 1.788954496383667, loss : 2.4299511909484863\n",
      "value_loss : 0.4867245852947235, policy_loss : 1.7691214084625244, loss : 2.2558460235595703\n",
      "value_loss : 0.6275694370269775, policy_loss : 1.7496287822723389, loss : 2.3771982192993164\n",
      "value_loss : 0.5968743562698364, policy_loss : 1.7781341075897217, loss : 2.3750085830688477\n",
      "value_loss : 0.5535311698913574, policy_loss : 1.7730350494384766, loss : 2.326566219329834\n",
      "value_loss : 0.502324640750885, policy_loss : 1.7372113466262817, loss : 2.2395360469818115\n",
      "value_loss : 0.5361616015434265, policy_loss : 1.770132064819336, loss : 2.3062937259674072\n"
     ]
    },
    {
     "name": "stderr",
     "output_type": "stream",
     "text": [
      "Training:  70%|██████▉   | 16/23 [00:00<00:00, 79.79it/s]\u001b[A"
     ]
    },
    {
     "name": "stdout",
     "output_type": "stream",
     "text": [
      "value_loss : 0.4077029228210449, policy_loss : 1.7591800689697266, loss : 2.1668829917907715\n",
      "value_loss : 0.4868117868900299, policy_loss : 1.7527046203613281, loss : 2.239516496658325\n",
      "value_loss : 0.39439502358436584, policy_loss : 1.7585668563842773, loss : 2.1529619693756104\n",
      "value_loss : 0.5572731494903564, policy_loss : 1.744152307510376, loss : 2.3014254570007324\n",
      "value_loss : 0.5411494374275208, policy_loss : 1.798882007598877, loss : 2.340031385421753\n",
      "value_loss : 0.5250625610351562, policy_loss : 1.7606632709503174, loss : 2.2857258319854736\n",
      "value_loss : 0.846327006816864, policy_loss : 1.8895591497421265, loss : 2.7358860969543457\n"
     ]
    },
    {
     "name": "stderr",
     "output_type": "stream",
     "text": [
      " 50%|█████     | 2/4 [00:00<00:00,  3.32it/s]"
     ]
    },
    {
     "name": "stdout",
     "output_type": "stream",
     "text": [
      "Training time: 0.2888 seconds\n"
     ]
    },
    {
     "name": "stderr",
     "output_type": "stream",
     "text": []
    },
    {
     "name": "stdout",
     "output_type": "stream",
     "text": [
      "value_loss : 0.37496334314346313, policy_loss : 1.7526382207870483, loss : 2.1276016235351562\n",
      "value_loss : 0.4835394024848938, policy_loss : 1.7648274898529053, loss : 2.2483668327331543\n",
      "value_loss : 0.4589347839355469, policy_loss : 1.7946115732192993, loss : 2.2535462379455566\n",
      "value_loss : 0.48181354999542236, policy_loss : 1.774227261543274, loss : 2.2560408115386963\n",
      "value_loss : 0.46968263387680054, policy_loss : 1.7732458114624023, loss : 2.2429285049438477\n",
      "value_loss : 0.3312990665435791, policy_loss : 1.7662917375564575, loss : 2.097590923309326\n",
      "value_loss : 0.5402015447616577, policy_loss : 1.762946367263794, loss : 2.303147792816162\n",
      "value_loss : 0.570183515548706, policy_loss : 1.8028204441070557, loss : 2.3730039596557617\n",
      "value_loss : 0.5605186820030212, policy_loss : 1.7639727592468262, loss : 2.324491500854492\n",
      "value_loss : 0.512556254863739, policy_loss : 1.7370212078094482, loss : 2.249577522277832\n",
      "value_loss : 0.4446360468864441, policy_loss : 1.735410451889038, loss : 2.180046558380127\n",
      "value_loss : 0.4754403531551361, policy_loss : 1.7389860153198242, loss : 2.214426279067993\n",
      "value_loss : 0.5234150886535645, policy_loss : 1.7148613929748535, loss : 2.238276481628418\n",
      "value_loss : 0.3820871412754059, policy_loss : 1.7376742362976074, loss : 2.1197614669799805\n",
      "value_loss : 0.5509511232376099, policy_loss : 1.7716999053955078, loss : 2.322650909423828\n",
      "value_loss : 0.45775073766708374, policy_loss : 1.7968326807022095, loss : 2.2545833587646484\n"
     ]
    },
    {
     "name": "stderr",
     "output_type": "stream",
     "text": [
      " 75%|███████▌  | 3/4 [00:00<00:00,  3.44it/s]"
     ]
    },
    {
     "name": "stdout",
     "output_type": "stream",
     "text": [
      "value_loss : 0.4632352888584137, policy_loss : 1.7555813789367676, loss : 2.2188167572021484\n",
      "value_loss : 0.40906232595443726, policy_loss : 1.7582812309265137, loss : 2.1673436164855957\n",
      "value_loss : 0.5604135990142822, policy_loss : 1.7696199417114258, loss : 2.330033540725708\n",
      "value_loss : 0.45223504304885864, policy_loss : 1.7604105472564697, loss : 2.2126455307006836\n",
      "value_loss : 0.4138178825378418, policy_loss : 1.7548255920410156, loss : 2.1686434745788574\n",
      "value_loss : 0.4221041202545166, policy_loss : 1.7396987676620483, loss : 2.1618027687072754\n",
      "value_loss : 0.22610066831111908, policy_loss : 1.5750391483306885, loss : 1.8011398315429688\n",
      "Training time: 0.2787 seconds\n"
     ]
    },
    {
     "name": "stderr",
     "output_type": "stream",
     "text": []
    },
    {
     "name": "stdout",
     "output_type": "stream",
     "text": [
      "value_loss : 0.4039745330810547, policy_loss : 1.7594048976898193, loss : 2.163379430770874\n",
      "value_loss : 0.37249326705932617, policy_loss : 1.7468467950820923, loss : 2.119339942932129\n",
      "value_loss : 0.318888783454895, policy_loss : 1.7369389533996582, loss : 2.0558276176452637\n",
      "value_loss : 0.43036746978759766, policy_loss : 1.7174293994903564, loss : 2.147796869277954\n",
      "value_loss : 0.39808446168899536, policy_loss : 1.7531046867370605, loss : 2.151189088821411\n",
      "value_loss : 0.4023846983909607, policy_loss : 1.7691724300384521, loss : 2.1715571880340576\n"
     ]
    },
    {
     "name": "stderr",
     "output_type": "stream",
     "text": []
    },
    {
     "name": "stdout",
     "output_type": "stream",
     "text": [
      "value_loss : 0.2898479402065277, policy_loss : 1.7106423377990723, loss : 2.000490188598633\n",
      "value_loss : 0.46494734287261963, policy_loss : 1.7638795375823975, loss : 2.2288269996643066\n",
      "value_loss : 0.36806243658065796, policy_loss : 1.6961681842803955, loss : 2.0642306804656982\n",
      "value_loss : 0.40950047969818115, policy_loss : 1.7187756299972534, loss : 2.1282761096954346\n",
      "value_loss : 0.4012913405895233, policy_loss : 1.717997431755066, loss : 2.119288682937622\n",
      "value_loss : 0.3460463583469391, policy_loss : 1.7124768495559692, loss : 2.058523178100586\n",
      "value_loss : 0.3903838098049164, policy_loss : 1.7409849166870117, loss : 2.131368637084961\n",
      "value_loss : 0.3238960802555084, policy_loss : 1.7472989559173584, loss : 2.071195125579834\n",
      "value_loss : 0.2778674364089966, policy_loss : 1.7781909704208374, loss : 2.056058406829834\n"
     ]
    },
    {
     "name": "stderr",
     "output_type": "stream",
     "text": []
    },
    {
     "name": "stdout",
     "output_type": "stream",
     "text": [
      "value_loss : 0.31162285804748535, policy_loss : 1.730904459953308, loss : 2.042527198791504\n",
      "value_loss : 0.4282354712486267, policy_loss : 1.7718178033828735, loss : 2.2000532150268555\n",
      "value_loss : 0.35957759618759155, policy_loss : 1.720818281173706, loss : 2.0803959369659424\n",
      "value_loss : 0.30934542417526245, policy_loss : 1.748721718788147, loss : 2.0580670833587646\n",
      "value_loss : 0.31946420669555664, policy_loss : 1.7669854164123535, loss : 2.08644962310791\n",
      "value_loss : 0.38495922088623047, policy_loss : 1.7030460834503174, loss : 2.088005304336548\n",
      "value_loss : 0.266949862241745, policy_loss : 1.7323716878890991, loss : 1.9993215799331665\n",
      "value_loss : 0.591282308101654, policy_loss : 1.7315844297409058, loss : 2.322866678237915\n"
     ]
    },
    {
     "name": "stderr",
     "output_type": "stream",
     "text": [
      "100%|██████████| 4/4 [00:01<00:00,  3.44it/s]\n"
     ]
    },
    {
     "name": "stdout",
     "output_type": "stream",
     "text": [
      "Training time: 0.2767 seconds\n"
     ]
    },
    {
     "name": "stderr",
     "output_type": "stream",
     "text": [
      " 33%|███▎      | 1/3 [00:10<00:20, 10.20s/it]"
     ]
    },
    {
     "name": "stdout",
     "output_type": "stream",
     "text": [
      "Self-play time: 10.1944 seconds\n"
     ]
    },
    {
     "name": "stderr",
     "output_type": "stream",
     "text": [
      " 67%|██████▋   | 2/3 [00:21<00:10, 10.67s/it]"
     ]
    },
    {
     "name": "stdout",
     "output_type": "stream",
     "text": [
      "Self-play time: 11.0019 seconds\n"
     ]
    },
    {
     "name": "stderr",
     "output_type": "stream",
     "text": [
      "100%|██████████| 3/3 [00:32<00:00, 10.91s/it]\n"
     ]
    },
    {
     "name": "stdout",
     "output_type": "stream",
     "text": [
      "Self-play time: 11.5252 seconds\n"
     ]
    },
    {
     "name": "stderr",
     "output_type": "stream",
     "text": [
      "  0%|          | 0/4 [00:00<?, ?it/s]"
     ]
    },
    {
     "name": "stdout",
     "output_type": "stream",
     "text": [
      "value_loss : 1.3467955589294434, policy_loss : 1.76249361038208, loss : 3.1092891693115234\n",
      "value_loss : 1.3927760124206543, policy_loss : 1.7831614017486572, loss : 3.1759374141693115\n",
      "value_loss : 1.2286144495010376, policy_loss : 1.8080154657363892, loss : 3.0366299152374268\n",
      "value_loss : 1.2851362228393555, policy_loss : 1.7915065288543701, loss : 3.0766427516937256\n",
      "value_loss : 1.3187592029571533, policy_loss : 1.7682030200958252, loss : 3.0869622230529785\n",
      "value_loss : 1.110544204711914, policy_loss : 1.7985522747039795, loss : 2.9090964794158936\n",
      "value_loss : 1.1218609809875488, policy_loss : 1.7294996976852417, loss : 2.85136079788208\n",
      "value_loss : 1.1006362438201904, policy_loss : 1.7248125076293945, loss : 2.825448751449585\n",
      "value_loss : 0.8943237066268921, policy_loss : 1.752876877784729, loss : 2.647200584411621\n",
      "value_loss : 0.9926415681838989, policy_loss : 1.7319252490997314, loss : 2.72456693649292\n",
      "value_loss : 0.8923035264015198, policy_loss : 1.737084150314331, loss : 2.629387617111206\n",
      "value_loss : 0.7441569566726685, policy_loss : 1.7201905250549316, loss : 2.4643473625183105\n",
      "value_loss : 0.9450825452804565, policy_loss : 1.7445881366729736, loss : 2.6896705627441406\n"
     ]
    },
    {
     "name": "stderr",
     "output_type": "stream",
     "text": [
      " 25%|██▌       | 1/4 [00:00<00:01,  2.76it/s]"
     ]
    },
    {
     "name": "stdout",
     "output_type": "stream",
     "text": [
      "value_loss : 0.8672362565994263, policy_loss : 1.7188736200332642, loss : 2.5861098766326904\n",
      "value_loss : 0.8999093770980835, policy_loss : 1.7494276762008667, loss : 2.64933705329895\n",
      "value_loss : 0.7574973106384277, policy_loss : 1.7560030221939087, loss : 2.513500213623047\n",
      "value_loss : 0.898766815662384, policy_loss : 1.775943398475647, loss : 2.674710273742676\n",
      "value_loss : 0.7166862487792969, policy_loss : 1.7740888595581055, loss : 2.4907751083374023\n",
      "value_loss : 0.874380350112915, policy_loss : 1.7171673774719238, loss : 2.591547727584839\n",
      "value_loss : 0.8272817134857178, policy_loss : 1.6921272277832031, loss : 2.519408941268921\n",
      "value_loss : 0.8934722542762756, policy_loss : 1.7240948677062988, loss : 2.6175670623779297\n",
      "value_loss : 0.7438425421714783, policy_loss : 1.7334707975387573, loss : 2.477313280105591\n",
      "value_loss : 0.8278549909591675, policy_loss : 1.7469725608825684, loss : 2.5748276710510254\n",
      "value_loss : 0.7916461825370789, policy_loss : 1.718352198600769, loss : 2.509998321533203\n",
      "value_loss : 0.6447339653968811, policy_loss : 1.8010249137878418, loss : 2.445758819580078\n",
      "Training time: 0.3625 seconds\n"
     ]
    },
    {
     "name": "stderr",
     "output_type": "stream",
     "text": []
    },
    {
     "name": "stdout",
     "output_type": "stream",
     "text": [
      "value_loss : 0.8023624420166016, policy_loss : 1.7063696384429932, loss : 2.5087320804595947\n",
      "value_loss : 0.6704035401344299, policy_loss : 1.6990143060684204, loss : 2.369417905807495\n",
      "value_loss : 0.7294037938117981, policy_loss : 1.730459213256836, loss : 2.4598629474639893\n",
      "value_loss : 0.6829553842544556, policy_loss : 1.6866209506988525, loss : 2.3695764541625977\n"
     ]
    },
    {
     "name": "stderr",
     "output_type": "stream",
     "text": [
      "\n"
     ]
    },
    {
     "name": "stdout",
     "output_type": "stream",
     "text": [
      "value_loss : 0.6668863296508789, policy_loss : 1.707381010055542, loss : 2.374267339706421\n",
      "value_loss : 0.6756600141525269, policy_loss : 1.6830132007598877, loss : 2.358673095703125\n",
      "value_loss : 0.6148046255111694, policy_loss : 1.7243437767028809, loss : 2.33914852142334\n",
      "value_loss : 0.6156537532806396, policy_loss : 1.7082027196884155, loss : 2.3238563537597656\n",
      "value_loss : 0.6472160816192627, policy_loss : 1.7228904962539673, loss : 2.3701066970825195\n",
      "value_loss : 0.6146253347396851, policy_loss : 1.732810378074646, loss : 2.347435712814331\n",
      "value_loss : 0.6603657603263855, policy_loss : 1.6523025035858154, loss : 2.3126683235168457\n",
      "value_loss : 0.6155533790588379, policy_loss : 1.7049903869628906, loss : 2.3205437660217285\n",
      "value_loss : 0.5951520204544067, policy_loss : 1.7610690593719482, loss : 2.3562211990356445\n",
      "value_loss : 0.516771674156189, policy_loss : 1.7365219593048096, loss : 2.253293514251709\n",
      "value_loss : 0.5646585822105408, policy_loss : 1.7033007144927979, loss : 2.2679593563079834\n",
      "value_loss : 0.5688378810882568, policy_loss : 1.719221830368042, loss : 2.288059711456299\n"
     ]
    },
    {
     "name": "stderr",
     "output_type": "stream",
     "text": [
      "Training:  64%|██████▍   | 16/25 [00:00<00:00, 79.47it/s]\u001b[A"
     ]
    },
    {
     "name": "stdout",
     "output_type": "stream",
     "text": [
      "value_loss : 0.6434844136238098, policy_loss : 1.7196451425552368, loss : 2.3631296157836914\n",
      "value_loss : 0.639410674571991, policy_loss : 1.722054362297058, loss : 2.3614649772644043\n",
      "value_loss : 0.5766660571098328, policy_loss : 1.6927521228790283, loss : 2.269418239593506\n",
      "value_loss : 0.5394762754440308, policy_loss : 1.7452694177627563, loss : 2.284745693206787\n"
     ]
    },
    {
     "name": "stderr",
     "output_type": "stream",
     "text": [
      " 50%|█████     | 2/4 [00:00<00:00,  2.98it/s]"
     ]
    },
    {
     "name": "stdout",
     "output_type": "stream",
     "text": [
      "value_loss : 0.561689019203186, policy_loss : 1.7163286209106445, loss : 2.278017520904541\n",
      "value_loss : 0.5937073826789856, policy_loss : 1.6929523944854736, loss : 2.2866597175598145\n",
      "value_loss : 0.5768104195594788, policy_loss : 1.7026773691177368, loss : 2.2794878482818604\n",
      "value_loss : 0.6692237854003906, policy_loss : 1.696239709854126, loss : 2.3654634952545166\n",
      "value_loss : 0.7587524652481079, policy_loss : 1.745263695716858, loss : 2.504016160964966\n",
      "Training time: 0.3158 seconds\n"
     ]
    },
    {
     "name": "stderr",
     "output_type": "stream",
     "text": []
    },
    {
     "name": "stdout",
     "output_type": "stream",
     "text": [
      "value_loss : 0.4406859874725342, policy_loss : 1.6796536445617676, loss : 2.1203396320343018\n",
      "value_loss : 0.5182982087135315, policy_loss : 1.712050437927246, loss : 2.230348587036133\n",
      "value_loss : 0.4205166697502136, policy_loss : 1.7035969495773315, loss : 2.1241135597229004\n",
      "value_loss : 0.510057806968689, policy_loss : 1.7108490467071533, loss : 2.2209067344665527\n",
      "value_loss : 0.560700535774231, policy_loss : 1.7409179210662842, loss : 2.3016185760498047\n",
      "value_loss : 0.486478716135025, policy_loss : 1.6815595626831055, loss : 2.1680383682250977\n",
      "value_loss : 0.4984619915485382, policy_loss : 1.6801446676254272, loss : 2.1786067485809326\n"
     ]
    },
    {
     "name": "stderr",
     "output_type": "stream",
     "text": []
    },
    {
     "name": "stdout",
     "output_type": "stream",
     "text": [
      "value_loss : 0.508267343044281, policy_loss : 1.6957426071166992, loss : 2.204010009765625\n",
      "value_loss : 0.5140848755836487, policy_loss : 1.7051920890808105, loss : 2.2192769050598145\n",
      "value_loss : 0.46005383133888245, policy_loss : 1.7202997207641602, loss : 2.1803536415100098\n",
      "value_loss : 0.5291132926940918, policy_loss : 1.6600041389465332, loss : 2.189117431640625\n",
      "value_loss : 0.5675971508026123, policy_loss : 1.6935694217681885, loss : 2.261166572570801\n",
      "value_loss : 0.4354304075241089, policy_loss : 1.7062121629714966, loss : 2.1416425704956055\n",
      "value_loss : 0.4376322031021118, policy_loss : 1.701968789100647, loss : 2.139600992202759\n",
      "value_loss : 0.5970331430435181, policy_loss : 1.6209203004837036, loss : 2.2179534435272217\n",
      "value_loss : 0.41171175241470337, policy_loss : 1.7102729082107544, loss : 2.1219847202301025\n"
     ]
    },
    {
     "name": "stderr",
     "output_type": "stream",
     "text": []
    },
    {
     "name": "stdout",
     "output_type": "stream",
     "text": [
      "value_loss : 0.48560285568237305, policy_loss : 1.659396767616272, loss : 2.1449995040893555\n",
      "value_loss : 0.4701266288757324, policy_loss : 1.7121120691299438, loss : 2.1822385787963867\n",
      "value_loss : 0.5148621201515198, policy_loss : 1.6454477310180664, loss : 2.1603097915649414\n",
      "value_loss : 0.4507496654987335, policy_loss : 1.6648985147476196, loss : 2.1156482696533203\n",
      "value_loss : 0.42423808574676514, policy_loss : 1.655904769897461, loss : 2.0801429748535156\n",
      "value_loss : 0.5383622646331787, policy_loss : 1.6878321170806885, loss : 2.226194381713867\n",
      "value_loss : 0.4708564281463623, policy_loss : 1.6934518814086914, loss : 2.1643083095550537\n",
      "value_loss : 0.4981187582015991, policy_loss : 1.6826157569885254, loss : 2.180734634399414\n",
      "value_loss : 0.3877790868282318, policy_loss : 1.6866130828857422, loss : 2.074392080307007\n"
     ]
    },
    {
     "name": "stderr",
     "output_type": "stream",
     "text": [
      " 75%|███████▌  | 3/4 [00:00<00:00,  3.09it/s]"
     ]
    },
    {
     "name": "stdout",
     "output_type": "stream",
     "text": [
      "Training time: 0.3098 seconds\n"
     ]
    },
    {
     "name": "stderr",
     "output_type": "stream",
     "text": []
    },
    {
     "name": "stdout",
     "output_type": "stream",
     "text": [
      "value_loss : 0.315646231174469, policy_loss : 1.6201176643371582, loss : 1.9357638359069824\n",
      "value_loss : 0.3357817828655243, policy_loss : 1.684011459350586, loss : 2.0197932720184326\n",
      "value_loss : 0.42269381880760193, policy_loss : 1.6852350234985352, loss : 2.10792875289917\n",
      "value_loss : 0.3451213240623474, policy_loss : 1.690384864807129, loss : 2.035506248474121\n",
      "value_loss : 0.37690937519073486, policy_loss : 1.682320475578308, loss : 2.059229850769043\n",
      "value_loss : 0.5186136960983276, policy_loss : 1.677885890007019, loss : 2.1964995861053467\n",
      "value_loss : 0.3440260887145996, policy_loss : 1.7187188863754272, loss : 2.0627450942993164\n",
      "value_loss : 0.4445171356201172, policy_loss : 1.6782009601593018, loss : 2.122718095779419\n",
      "value_loss : 0.4446595311164856, policy_loss : 1.6579537391662598, loss : 2.1026132106781006\n"
     ]
    },
    {
     "name": "stderr",
     "output_type": "stream",
     "text": []
    },
    {
     "name": "stdout",
     "output_type": "stream",
     "text": [
      "value_loss : 0.3607258200645447, policy_loss : 1.7326672077178955, loss : 2.093393087387085\n",
      "value_loss : 0.4348219931125641, policy_loss : 1.6677418947219849, loss : 2.1025638580322266\n",
      "value_loss : 0.44491755962371826, policy_loss : 1.6573030948638916, loss : 2.1022205352783203\n",
      "value_loss : 0.3974722623825073, policy_loss : 1.676545262336731, loss : 2.0740175247192383\n",
      "value_loss : 0.35180696845054626, policy_loss : 1.6885454654693604, loss : 2.0403523445129395\n",
      "value_loss : 0.4242560565471649, policy_loss : 1.7272002696990967, loss : 2.151456356048584\n",
      "value_loss : 0.4076620042324066, policy_loss : 1.6596943140029907, loss : 2.0673563480377197\n",
      "value_loss : 0.3688119053840637, policy_loss : 1.6763195991516113, loss : 2.0451314449310303\n"
     ]
    },
    {
     "name": "stderr",
     "output_type": "stream",
     "text": []
    },
    {
     "name": "stdout",
     "output_type": "stream",
     "text": [
      "value_loss : 0.40887466073036194, policy_loss : 1.6694655418395996, loss : 2.0783402919769287\n",
      "value_loss : 0.428886741399765, policy_loss : 1.6406749486923218, loss : 2.069561719894409\n",
      "value_loss : 0.31748026609420776, policy_loss : 1.6569503545761108, loss : 1.9744305610656738\n",
      "value_loss : 0.35088223218917847, policy_loss : 1.6787484884262085, loss : 2.029630661010742\n",
      "value_loss : 0.4449728727340698, policy_loss : 1.6689040660858154, loss : 2.1138768196105957\n",
      "value_loss : 0.4550771713256836, policy_loss : 1.6751999855041504, loss : 2.130277156829834\n"
     ]
    },
    {
     "name": "stderr",
     "output_type": "stream",
     "text": [
      "100%|██████████| 4/4 [00:01<00:00,  3.15it/s]"
     ]
    },
    {
     "name": "stdout",
     "output_type": "stream",
     "text": [
      "value_loss : 0.4144937992095947, policy_loss : 1.6679831743240356, loss : 2.08247709274292\n",
      "value_loss : 1.058382272720337, policy_loss : 1.620301365852356, loss : 2.6786837577819824\n",
      "Training time: 0.3088 seconds\n"
     ]
    },
    {
     "name": "stderr",
     "output_type": "stream",
     "text": [
      "100%|██████████| 4/4 [00:01<00:00,  3.08it/s]\n",
      " 33%|███▎      | 1/3 [00:10<00:20, 10.13s/it]"
     ]
    },
    {
     "name": "stdout",
     "output_type": "stream",
     "text": [
      "Self-play time: 10.1296 seconds\n"
     ]
    },
    {
     "name": "stderr",
     "output_type": "stream",
     "text": [
      " 67%|██████▋   | 2/3 [00:20<00:10, 10.31s/it]"
     ]
    },
    {
     "name": "stdout",
     "output_type": "stream",
     "text": [
      "Self-play time: 10.4284 seconds\n"
     ]
    },
    {
     "name": "stderr",
     "output_type": "stream",
     "text": [
      "100%|██████████| 3/3 [00:30<00:00, 10.04s/it]\n"
     ]
    },
    {
     "name": "stdout",
     "output_type": "stream",
     "text": [
      "Self-play time: 9.5683 seconds\n"
     ]
    },
    {
     "name": "stderr",
     "output_type": "stream",
     "text": [
      "  0%|          | 0/4 [00:00<?, ?it/s]"
     ]
    },
    {
     "name": "stdout",
     "output_type": "stream",
     "text": [
      "value_loss : 1.2819242477416992, policy_loss : 1.8283703327178955, loss : 3.1102945804595947\n",
      "value_loss : 1.2133457660675049, policy_loss : 1.8196593523025513, loss : 3.0330052375793457\n",
      "value_loss : 1.217254877090454, policy_loss : 1.7924213409423828, loss : 3.009676218032837\n",
      "value_loss : 1.3608131408691406, policy_loss : 1.7713584899902344, loss : 3.132171630859375\n",
      "value_loss : 1.003976821899414, policy_loss : 1.7857496738433838, loss : 2.789726495742798\n",
      "value_loss : 1.2273073196411133, policy_loss : 1.8034883737564087, loss : 3.0307955741882324\n",
      "value_loss : 0.982200562953949, policy_loss : 1.7459181547164917, loss : 2.728118658065796\n",
      "value_loss : 1.0613033771514893, policy_loss : 1.752961277961731, loss : 2.8142647743225098\n",
      "value_loss : 0.9567296504974365, policy_loss : 1.7898958921432495, loss : 2.7466254234313965\n",
      "value_loss : 0.8903838992118835, policy_loss : 1.7840080261230469, loss : 2.674391984939575\n",
      "value_loss : 0.866536021232605, policy_loss : 1.7807304859161377, loss : 2.647266387939453\n",
      "value_loss : 0.8519793152809143, policy_loss : 1.7473456859588623, loss : 2.599324941635132\n"
     ]
    },
    {
     "name": "stderr",
     "output_type": "stream",
     "text": [
      " 25%|██▌       | 1/4 [00:00<00:01,  2.86it/s]"
     ]
    },
    {
     "name": "stdout",
     "output_type": "stream",
     "text": [
      "value_loss : 0.9930692911148071, policy_loss : 1.7797144651412964, loss : 2.7727837562561035\n",
      "value_loss : 0.9185504913330078, policy_loss : 1.7812844514846802, loss : 2.6998348236083984\n",
      "value_loss : 0.9223599433898926, policy_loss : 1.7501964569091797, loss : 2.6725564002990723\n",
      "value_loss : 0.8812909126281738, policy_loss : 1.8068385124206543, loss : 2.688129425048828\n",
      "value_loss : 0.8056280016899109, policy_loss : 1.770526647567749, loss : 2.5761547088623047\n",
      "value_loss : 0.8221817016601562, policy_loss : 1.7409007549285889, loss : 2.563082456588745\n",
      "value_loss : 0.8219020962715149, policy_loss : 1.7950434684753418, loss : 2.616945505142212\n",
      "value_loss : 0.7675025463104248, policy_loss : 1.7828829288482666, loss : 2.5503854751586914\n",
      "value_loss : 0.8680628538131714, policy_loss : 1.7340359687805176, loss : 2.6020989418029785\n",
      "value_loss : 0.8218082189559937, policy_loss : 1.750148892402649, loss : 2.5719571113586426\n",
      "value_loss : 0.8194006681442261, policy_loss : 1.802547574043274, loss : 2.6219482421875\n",
      "Training time: 0.3499 seconds\n"
     ]
    },
    {
     "name": "stderr",
     "output_type": "stream",
     "text": []
    },
    {
     "name": "stdout",
     "output_type": "stream",
     "text": [
      "value_loss : 0.7366573214530945, policy_loss : 1.7391644716262817, loss : 2.4758217334747314\n",
      "value_loss : 0.7925155758857727, policy_loss : 1.7280970811843872, loss : 2.5206127166748047\n",
      "value_loss : 0.7321969866752625, policy_loss : 1.7702826261520386, loss : 2.5024795532226562\n",
      "value_loss : 0.7112044095993042, policy_loss : 1.7840296030044556, loss : 2.4952340126037598\n"
     ]
    },
    {
     "name": "stderr",
     "output_type": "stream",
     "text": []
    },
    {
     "name": "stdout",
     "output_type": "stream",
     "text": [
      "value_loss : 0.7619908452033997, policy_loss : 1.7592958211898804, loss : 2.521286725997925\n",
      "value_loss : 0.7634749412536621, policy_loss : 1.7398390769958496, loss : 2.5033140182495117\n",
      "value_loss : 0.7351930141448975, policy_loss : 1.7229743003845215, loss : 2.458167314529419\n",
      "value_loss : 0.8123631477355957, policy_loss : 1.7573373317718506, loss : 2.5697004795074463\n",
      "value_loss : 0.676568865776062, policy_loss : 1.7458183765411377, loss : 2.42238712310791\n",
      "value_loss : 0.6672358512878418, policy_loss : 1.7615082263946533, loss : 2.428744077682495\n",
      "value_loss : 0.7282081246376038, policy_loss : 1.7563085556030273, loss : 2.4845166206359863\n",
      "value_loss : 0.6899482607841492, policy_loss : 1.6985108852386475, loss : 2.3884592056274414\n",
      "value_loss : 0.6723484396934509, policy_loss : 1.7247428894042969, loss : 2.3970913887023926\n",
      "value_loss : 0.7062085270881653, policy_loss : 1.7414346933364868, loss : 2.447643280029297\n",
      "value_loss : 0.7205448150634766, policy_loss : 1.7640955448150635, loss : 2.48464035987854\n"
     ]
    },
    {
     "name": "stderr",
     "output_type": "stream",
     "text": []
    },
    {
     "name": "stdout",
     "output_type": "stream",
     "text": [
      "value_loss : 0.5961148738861084, policy_loss : 1.7380330562591553, loss : 2.3341479301452637\n",
      "value_loss : 0.7334650754928589, policy_loss : 1.736767053604126, loss : 2.4702320098876953\n",
      "value_loss : 0.5642461180686951, policy_loss : 1.6962671279907227, loss : 2.2605133056640625\n",
      "value_loss : 0.5241639614105225, policy_loss : 1.7472150325775146, loss : 2.271378993988037\n",
      "value_loss : 0.6084657907485962, policy_loss : 1.7160377502441406, loss : 2.3245034217834473\n"
     ]
    },
    {
     "name": "stderr",
     "output_type": "stream",
     "text": [
      " 50%|█████     | 2/4 [00:00<00:00,  3.22it/s]"
     ]
    },
    {
     "name": "stdout",
     "output_type": "stream",
     "text": [
      "value_loss : 0.7308696508407593, policy_loss : 1.7083470821380615, loss : 2.4392166137695312\n",
      "value_loss : 0.5555345416069031, policy_loss : 1.7599849700927734, loss : 2.3155195713043213\n",
      "value_loss : 0.5680344700813293, policy_loss : 1.7740275859832764, loss : 2.342061996459961\n",
      "Training time: 0.2837 seconds\n"
     ]
    },
    {
     "name": "stderr",
     "output_type": "stream",
     "text": []
    },
    {
     "name": "stdout",
     "output_type": "stream",
     "text": [
      "value_loss : 0.44048577547073364, policy_loss : 1.6543653011322021, loss : 2.094851016998291\n",
      "value_loss : 0.5689911842346191, policy_loss : 1.7038419246673584, loss : 2.2728331089019775\n",
      "value_loss : 0.5403285622596741, policy_loss : 1.6897711753845215, loss : 2.230099678039551\n",
      "value_loss : 0.5667761564254761, policy_loss : 1.7354421615600586, loss : 2.302218437194824\n",
      "value_loss : 0.5254486799240112, policy_loss : 1.65639328956604, loss : 2.1818418502807617\n",
      "value_loss : 0.48683008551597595, policy_loss : 1.7041043043136597, loss : 2.190934419631958\n",
      "value_loss : 0.4783834218978882, policy_loss : 1.7303869724273682, loss : 2.208770275115967\n",
      "value_loss : 0.6072630286216736, policy_loss : 1.724058747291565, loss : 2.3313217163085938\n",
      "value_loss : 0.5199182629585266, policy_loss : 1.70612633228302, loss : 2.2260446548461914\n"
     ]
    },
    {
     "name": "stderr",
     "output_type": "stream",
     "text": []
    },
    {
     "name": "stdout",
     "output_type": "stream",
     "text": [
      "value_loss : 0.537189781665802, policy_loss : 1.7441768646240234, loss : 2.2813665866851807\n",
      "value_loss : 0.60993492603302, policy_loss : 1.7141432762145996, loss : 2.32407808303833\n",
      "value_loss : 0.5731499791145325, policy_loss : 1.7199900150299072, loss : 2.293139934539795\n",
      "value_loss : 0.6278030276298523, policy_loss : 1.693841814994812, loss : 2.3216447830200195\n",
      "value_loss : 0.5440965890884399, policy_loss : 1.7054393291473389, loss : 2.2495360374450684\n",
      "value_loss : 0.5011283755302429, policy_loss : 1.733499526977539, loss : 2.2346279621124268\n",
      "value_loss : 0.539871335029602, policy_loss : 1.7077783346176147, loss : 2.247649669647217\n",
      "value_loss : 0.46620041131973267, policy_loss : 1.768031120300293, loss : 2.234231472015381\n"
     ]
    },
    {
     "name": "stderr",
     "output_type": "stream",
     "text": [
      " 75%|███████▌  | 3/4 [00:00<00:00,  3.35it/s]"
     ]
    },
    {
     "name": "stdout",
     "output_type": "stream",
     "text": [
      "value_loss : 0.520397424697876, policy_loss : 1.7255878448486328, loss : 2.245985269546509\n",
      "value_loss : 0.6043750643730164, policy_loss : 1.7305352687835693, loss : 2.3349103927612305\n",
      "value_loss : 0.5035656094551086, policy_loss : 1.6939260959625244, loss : 2.1974916458129883\n",
      "value_loss : 0.4894890785217285, policy_loss : 1.7596392631530762, loss : 2.2491283416748047\n",
      "value_loss : 0.4301791787147522, policy_loss : 1.7487388849258423, loss : 2.1789181232452393\n",
      "value_loss : 0.5262349843978882, policy_loss : 1.7018601894378662, loss : 2.228095054626465\n",
      "Training time: 0.2827 seconds\n"
     ]
    },
    {
     "name": "stderr",
     "output_type": "stream",
     "text": []
    },
    {
     "name": "stdout",
     "output_type": "stream",
     "text": [
      "value_loss : 0.378447949886322, policy_loss : 1.7158559560775757, loss : 2.094303846359253\n",
      "value_loss : 0.3932419419288635, policy_loss : 1.69977605342865, loss : 2.093018054962158\n",
      "value_loss : 0.40391767024993896, policy_loss : 1.6817997694015503, loss : 2.0857174396514893\n",
      "value_loss : 0.3989853262901306, policy_loss : 1.727457880973816, loss : 2.1264431476593018\n",
      "value_loss : 0.4530213475227356, policy_loss : 1.7128772735595703, loss : 2.165898561477661\n",
      "value_loss : 0.31927135586738586, policy_loss : 1.7121235132217407, loss : 2.0313949584960938\n",
      "value_loss : 0.3572932481765747, policy_loss : 1.6786978244781494, loss : 2.0359911918640137\n"
     ]
    },
    {
     "name": "stderr",
     "output_type": "stream",
     "text": []
    },
    {
     "name": "stdout",
     "output_type": "stream",
     "text": [
      "value_loss : 0.4036049246788025, policy_loss : 1.712139368057251, loss : 2.1157443523406982\n",
      "value_loss : 0.3841303586959839, policy_loss : 1.697019100189209, loss : 2.0811495780944824\n",
      "value_loss : 0.4023171663284302, policy_loss : 1.7228182554244995, loss : 2.1251354217529297\n",
      "value_loss : 0.4542631506919861, policy_loss : 1.6798819303512573, loss : 2.1341450214385986\n",
      "value_loss : 0.38511186838150024, policy_loss : 1.6457453966140747, loss : 2.0308573246002197\n",
      "value_loss : 0.44171077013015747, policy_loss : 1.7118810415267944, loss : 2.1535918712615967\n",
      "value_loss : 0.4456910490989685, policy_loss : 1.6745843887329102, loss : 2.1202754974365234\n",
      "value_loss : 0.4462599456310272, policy_loss : 1.6719927787780762, loss : 2.118252754211426\n",
      "value_loss : 0.4584498405456543, policy_loss : 1.7070772647857666, loss : 2.165527105331421\n",
      "value_loss : 0.47213804721832275, policy_loss : 1.702238917350769, loss : 2.174376964569092\n",
      "value_loss : 0.46598005294799805, policy_loss : 1.6814866065979004, loss : 2.1474666595458984\n"
     ]
    },
    {
     "name": "stderr",
     "output_type": "stream",
     "text": []
    },
    {
     "name": "stdout",
     "output_type": "stream",
     "text": [
      "value_loss : 0.49870413541793823, policy_loss : 1.6876451969146729, loss : 2.186349391937256\n",
      "value_loss : 0.34090256690979004, policy_loss : 1.7531304359436035, loss : 2.0940330028533936\n",
      "value_loss : 0.3031732141971588, policy_loss : 1.7214460372924805, loss : 2.0246193408966064\n",
      "value_loss : 0.33149343729019165, policy_loss : 1.7001218795776367, loss : 2.0316152572631836\n",
      "value_loss : 0.3054625689983368, policy_loss : 1.6738463640213013, loss : 1.9793089628219604\n"
     ]
    },
    {
     "name": "stderr",
     "output_type": "stream",
     "text": [
      "100%|██████████| 4/4 [00:01<00:00,  3.30it/s]\n"
     ]
    },
    {
     "name": "stdout",
     "output_type": "stream",
     "text": [
      "Training time: 0.2948 seconds\n"
     ]
    },
    {
     "name": "stderr",
     "output_type": "stream",
     "text": [
      " 33%|███▎      | 1/3 [00:10<00:20, 10.35s/it]"
     ]
    },
    {
     "name": "stdout",
     "output_type": "stream",
     "text": [
      "Self-play time: 10.3451 seconds\n"
     ]
    },
    {
     "name": "stderr",
     "output_type": "stream",
     "text": [
      " 67%|██████▋   | 2/3 [00:19<00:09,  9.93s/it]"
     ]
    },
    {
     "name": "stdout",
     "output_type": "stream",
     "text": [
      "Self-play time: 9.6374 seconds\n"
     ]
    },
    {
     "name": "stderr",
     "output_type": "stream",
     "text": [
      "100%|██████████| 3/3 [00:31<00:00, 10.48s/it]\n"
     ]
    },
    {
     "name": "stdout",
     "output_type": "stream",
     "text": [
      "Self-play time: 11.4466 seconds\n"
     ]
    },
    {
     "name": "stderr",
     "output_type": "stream",
     "text": [
      "  0%|          | 0/4 [00:00<?, ?it/s]"
     ]
    },
    {
     "name": "stdout",
     "output_type": "stream",
     "text": [
      "value_loss : 1.3344229459762573, policy_loss : 1.8149335384368896, loss : 3.1493563652038574\n",
      "value_loss : 1.4538551568984985, policy_loss : 1.795337438583374, loss : 3.249192714691162\n",
      "value_loss : 1.2226842641830444, policy_loss : 1.8070533275604248, loss : 3.0297374725341797\n",
      "value_loss : 1.084909200668335, policy_loss : 1.8081450462341309, loss : 2.893054246902466\n",
      "value_loss : 1.096397042274475, policy_loss : 1.7923874855041504, loss : 2.888784408569336\n",
      "value_loss : 1.0909621715545654, policy_loss : 1.7675678730010986, loss : 2.858530044555664\n",
      "value_loss : 1.1906073093414307, policy_loss : 1.7564146518707275, loss : 2.947021961212158\n",
      "value_loss : 0.8207470178604126, policy_loss : 1.792363166809082, loss : 2.613110065460205\n",
      "value_loss : 0.9817404747009277, policy_loss : 1.79132080078125, loss : 2.7730612754821777\n",
      "value_loss : 0.8826022148132324, policy_loss : 1.777249813079834, loss : 2.6598520278930664\n",
      "value_loss : 0.8374302983283997, policy_loss : 1.8011999130249023, loss : 2.6386301517486572\n",
      "value_loss : 0.7750110030174255, policy_loss : 1.7578904628753662, loss : 2.5329015254974365\n",
      "value_loss : 0.8557429313659668, policy_loss : 1.7416176795959473, loss : 2.597360610961914\n"
     ]
    },
    {
     "name": "stderr",
     "output_type": "stream",
     "text": [
      " 25%|██▌       | 1/4 [00:00<00:01,  2.79it/s]"
     ]
    },
    {
     "name": "stdout",
     "output_type": "stream",
     "text": [
      "value_loss : 0.8185652494430542, policy_loss : 1.7632066011428833, loss : 2.5817718505859375\n",
      "value_loss : 0.8976565599441528, policy_loss : 1.7865426540374756, loss : 2.684199333190918\n",
      "value_loss : 0.7769568562507629, policy_loss : 1.736307978630066, loss : 2.5132648944854736\n",
      "value_loss : 0.8032139539718628, policy_loss : 1.771350383758545, loss : 2.5745644569396973\n",
      "value_loss : 0.722216010093689, policy_loss : 1.7484807968139648, loss : 2.4706969261169434\n",
      "value_loss : 0.8116980791091919, policy_loss : 1.7837392091751099, loss : 2.5954372882843018\n",
      "value_loss : 0.8053295612335205, policy_loss : 1.7607263326644897, loss : 2.5660557746887207\n",
      "value_loss : 0.7209182977676392, policy_loss : 1.7606803178787231, loss : 2.4815986156463623\n",
      "value_loss : 0.7263837456703186, policy_loss : 1.773777723312378, loss : 2.5001614093780518\n",
      "value_loss : 0.6804537773132324, policy_loss : 1.735784888267517, loss : 2.416238784790039\n",
      "Training time: 0.3584 seconds\n"
     ]
    },
    {
     "name": "stderr",
     "output_type": "stream",
     "text": []
    },
    {
     "name": "stdout",
     "output_type": "stream",
     "text": [
      "value_loss : 0.7206354737281799, policy_loss : 1.748764991760254, loss : 2.469400405883789\n",
      "value_loss : 0.6133407354354858, policy_loss : 1.739734172821045, loss : 2.3530750274658203\n",
      "value_loss : 0.5696122646331787, policy_loss : 1.7551484107971191, loss : 2.324760675430298\n",
      "value_loss : 0.528290331363678, policy_loss : 1.7545433044433594, loss : 2.2828335762023926"
     ]
    },
    {
     "name": "stderr",
     "output_type": "stream",
     "text": []
    },
    {
     "name": "stdout",
     "output_type": "stream",
     "text": [
      "\n",
      "value_loss : 0.6783267259597778, policy_loss : 1.7634556293487549, loss : 2.4417824745178223\n",
      "value_loss : 0.6201096177101135, policy_loss : 1.7363061904907227, loss : 2.3564157485961914\n",
      "value_loss : 0.6581249237060547, policy_loss : 1.733689308166504, loss : 2.3918142318725586\n",
      "value_loss : 0.683490514755249, policy_loss : 1.7525880336761475, loss : 2.4360785484313965\n",
      "value_loss : 0.6467458605766296, policy_loss : 1.7357136011123657, loss : 2.3824594020843506\n",
      "value_loss : 0.6272976994514465, policy_loss : 1.7580281496047974, loss : 2.3853259086608887\n",
      "value_loss : 0.6128338575363159, policy_loss : 1.7372723817825317, loss : 2.3501062393188477\n",
      "value_loss : 0.6318272352218628, policy_loss : 1.7669050693511963, loss : 2.3987321853637695\n",
      "value_loss : 0.6059651970863342, policy_loss : 1.704840898513794, loss : 2.3108060359954834\n",
      "value_loss : 0.6417195200920105, policy_loss : 1.708345651626587, loss : 2.350065231323242\n",
      "value_loss : 0.6135680079460144, policy_loss : 1.7024989128112793, loss : 2.3160669803619385\n",
      "value_loss : 0.6154493093490601, policy_loss : 1.6924076080322266, loss : 2.307857036590576\n"
     ]
    },
    {
     "name": "stderr",
     "output_type": "stream",
     "text": []
    },
    {
     "name": "stdout",
     "output_type": "stream",
     "text": [
      "value_loss : 0.5172553062438965, policy_loss : 1.757798671722412, loss : 2.2750539779663086\n",
      "value_loss : 0.5273978114128113, policy_loss : 1.7282215356826782, loss : 2.2556192874908447\n",
      "value_loss : 0.5958150029182434, policy_loss : 1.6963778734207153, loss : 2.2921929359436035\n",
      "value_loss : 0.5280848741531372, policy_loss : 1.7542698383331299, loss : 2.2823548316955566\n"
     ]
    },
    {
     "name": "stderr",
     "output_type": "stream",
     "text": [
      " 50%|█████     | 2/4 [00:00<00:00,  3.20it/s]"
     ]
    },
    {
     "name": "stdout",
     "output_type": "stream",
     "text": [
      "value_loss : 0.6303937435150146, policy_loss : 1.7086546421051025, loss : 2.339048385620117\n",
      "value_loss : 0.5345808267593384, policy_loss : 1.706126093864441, loss : 2.2407069206237793\n",
      "value_loss : 0.5307965278625488, policy_loss : 1.7169522047042847, loss : 2.247748851776123\n",
      "Training time: 0.2807 seconds\n"
     ]
    },
    {
     "name": "stderr",
     "output_type": "stream",
     "text": []
    },
    {
     "name": "stdout",
     "output_type": "stream",
     "text": [
      "value_loss : 0.4019394516944885, policy_loss : 1.6558974981307983, loss : 2.0578370094299316\n",
      "value_loss : 0.44721537828445435, policy_loss : 1.70524263381958, loss : 2.1524579524993896\n",
      "value_loss : 0.5148277282714844, policy_loss : 1.7043521404266357, loss : 2.21917986869812\n",
      "value_loss : 0.4881211519241333, policy_loss : 1.7215955257415771, loss : 2.209716796875\n",
      "value_loss : 0.5133494138717651, policy_loss : 1.7361688613891602, loss : 2.249518394470215\n",
      "value_loss : 0.39799949526786804, policy_loss : 1.6868056058883667, loss : 2.0848050117492676\n",
      "value_loss : 0.4524143934249878, policy_loss : 1.7273482084274292, loss : 2.179762601852417\n",
      "value_loss : 0.5031571388244629, policy_loss : 1.6846354007720947, loss : 2.1877925395965576\n",
      "value_loss : 0.49437057971954346, policy_loss : 1.7163782119750977, loss : 2.2107486724853516\n"
     ]
    },
    {
     "name": "stderr",
     "output_type": "stream",
     "text": []
    },
    {
     "name": "stdout",
     "output_type": "stream",
     "text": [
      "value_loss : 0.46109336614608765, policy_loss : 1.7316794395446777, loss : 2.19277286529541\n",
      "value_loss : 0.43381303548812866, policy_loss : 1.7053855657577515, loss : 2.1391985416412354\n",
      "value_loss : 0.45631492137908936, policy_loss : 1.7288384437561035, loss : 2.1851534843444824\n",
      "value_loss : 0.47596633434295654, policy_loss : 1.7004454135894775, loss : 2.1764116287231445\n",
      "value_loss : 0.4524405598640442, policy_loss : 1.679649829864502, loss : 2.1320903301239014\n",
      "value_loss : 0.4587198495864868, policy_loss : 1.6829389333724976, loss : 2.1416587829589844\n",
      "value_loss : 0.3683971166610718, policy_loss : 1.7626709938049316, loss : 2.131068229675293\n",
      "value_loss : 0.41280680894851685, policy_loss : 1.7187927961349487, loss : 2.1315996646881104\n"
     ]
    },
    {
     "name": "stderr",
     "output_type": "stream",
     "text": [
      " 75%|███████▌  | 3/4 [00:00<00:00,  3.36it/s]"
     ]
    },
    {
     "name": "stdout",
     "output_type": "stream",
     "text": [
      "value_loss : 0.5508334636688232, policy_loss : 1.710237979888916, loss : 2.2610714435577393\n",
      "value_loss : 0.4142175018787384, policy_loss : 1.6861765384674072, loss : 2.1003940105438232\n",
      "value_loss : 0.36045387387275696, policy_loss : 1.7029999494552612, loss : 2.0634539127349854\n",
      "value_loss : 0.40407875180244446, policy_loss : 1.6871254444122314, loss : 2.0912041664123535\n",
      "value_loss : 0.4741857349872589, policy_loss : 1.6983613967895508, loss : 2.1725471019744873\n",
      "value_loss : 0.41791945695877075, policy_loss : 1.7362587451934814, loss : 2.1541781425476074\n",
      "Training time: 0.2787 seconds\n"
     ]
    },
    {
     "name": "stderr",
     "output_type": "stream",
     "text": []
    },
    {
     "name": "stdout",
     "output_type": "stream",
     "text": [
      "value_loss : 0.43417835235595703, policy_loss : 1.6651010513305664, loss : 2.0992794036865234\n",
      "value_loss : 0.37903350591659546, policy_loss : 1.682751178741455, loss : 2.0617847442626953\n",
      "value_loss : 0.4059610962867737, policy_loss : 1.6685290336608887, loss : 2.0744900703430176\n",
      "value_loss : 0.4468681514263153, policy_loss : 1.6789638996124268, loss : 2.1258320808410645\n",
      "value_loss : 0.334755003452301, policy_loss : 1.6981083154678345, loss : 2.0328633785247803\n",
      "value_loss : 0.3361005485057831, policy_loss : 1.7275558710098267, loss : 2.0636563301086426\n",
      "value_loss : 0.38244786858558655, policy_loss : 1.6952531337738037, loss : 2.0777010917663574\n"
     ]
    },
    {
     "name": "stderr",
     "output_type": "stream",
     "text": []
    },
    {
     "name": "stdout",
     "output_type": "stream",
     "text": [
      "value_loss : 0.32067131996154785, policy_loss : 1.6665852069854736, loss : 1.9872565269470215\n",
      "value_loss : 0.31840768456459045, policy_loss : 1.7042536735534668, loss : 2.0226614475250244\n",
      "value_loss : 0.35943302512168884, policy_loss : 1.728233814239502, loss : 2.0876667499542236\n",
      "value_loss : 0.36570894718170166, policy_loss : 1.7075841426849365, loss : 2.0732932090759277\n",
      "value_loss : 0.3665899932384491, policy_loss : 1.6801517009735107, loss : 2.0467417240142822\n",
      "value_loss : 0.3857433795928955, policy_loss : 1.7262792587280273, loss : 2.112022638320923\n",
      "value_loss : 0.4364328980445862, policy_loss : 1.663201093673706, loss : 2.0996339321136475\n",
      "value_loss : 0.42344143986701965, policy_loss : 1.7088251113891602, loss : 2.1322665214538574\n",
      "value_loss : 0.3928392231464386, policy_loss : 1.7094042301177979, loss : 2.102243423461914\n"
     ]
    },
    {
     "name": "stderr",
     "output_type": "stream",
     "text": []
    },
    {
     "name": "stdout",
     "output_type": "stream",
     "text": [
      "value_loss : 0.33876463770866394, policy_loss : 1.6163431406021118, loss : 1.9551078081130981\n",
      "value_loss : 0.31361132860183716, policy_loss : 1.695719599723816, loss : 2.009330987930298\n",
      "value_loss : 0.4049452245235443, policy_loss : 1.6591758728027344, loss : 2.0641210079193115\n",
      "value_loss : 0.42008349299430847, policy_loss : 1.6871252059936523, loss : 2.107208728790283\n",
      "value_loss : 0.31793639063835144, policy_loss : 1.695885419845581, loss : 2.013821840286255\n"
     ]
    },
    {
     "name": "stderr",
     "output_type": "stream",
     "text": [
      "100%|██████████| 4/4 [00:01<00:00,  3.33it/s]"
     ]
    },
    {
     "name": "stdout",
     "output_type": "stream",
     "text": [
      "value_loss : 0.29116761684417725, policy_loss : 1.6696133613586426, loss : 1.9607809782028198\n",
      "value_loss : 0.33534157276153564, policy_loss : 1.6873825788497925, loss : 2.022724151611328\n",
      "Training time: 0.2817 seconds\n"
     ]
    },
    {
     "name": "stderr",
     "output_type": "stream",
     "text": [
      "\n"
     ]
    }
   ],
   "source": [
    "#Testing a round of SelfPlay\n",
    "optimizer = torch.optim.Adam(model.parameters(), lr=0.001, weight_decay=0.0001)\n",
    "\n",
    "args = {\n",
    "    'C': 2,\n",
    "    'MCTS_iterations': 50,\n",
    "    'num_parallel_selfplays': 3,\n",
    "    'iterations': 8,\n",
    "    'parallel_games': 50,\n",
    "    'batch_size': 128,\n",
    "    'dirichlet_epsilon': 0.25,\n",
    "    'dirichlet_alpha': 0.3,\n",
    "    'temperature': 1.25,\n",
    "    'load_model': False,\n",
    "    'save_frequency': 1,\n",
    "    'num_epochs': 4,\n",
    "}\n",
    "alphaZero = AlphaZeroParallel(game,args,model,optimizer)\n",
    "alphaZero.learn()"
   ]
  },
  {
   "cell_type": "code",
   "execution_count": 27,
   "metadata": {},
   "outputs": [
    {
     "name": "stdout",
     "output_type": "stream",
     "text": [
      "Model vs Random — Wins: 707, Draws: 2, Losses: 291 (1000 games)\n"
     ]
    }
   ],
   "source": [
    "\n",
    "evaluate_vs_random(model, game, num_games=1000)"
   ]
  },
  {
   "cell_type": "markdown",
   "metadata": {},
   "source": [
    "Model vs Random — Wins: 863, Draws: 2, Losses: 135 (1000 games)\n",
    "27 minutes of training\n",
    "lowest value loss: 0.4\n",
    "lowest policy loss: 1.6"
   ]
  },
  {
   "cell_type": "markdown",
   "metadata": {},
   "source": [
    "args = {\n",
    "    'C': 2,\n",
    "    'MCTS_iterations': 500,\n",
    "    'num_parallel_selfplays': 8,\n",
    "    'iterations': 8,\n",
    "    'parallel_games': 100,\n",
    "    'batch_size': 128,\n",
    "    'dirichlet_epsilon': 0.25,\n",
    "    'dirichlet_alpha': 0.3,\n",
    "    'temperature': 1.25,\n",
    "    'load_model': False,\n",
    "    'save_frequency': 1,\n",
    "    'num_epochs': 4,\n",
    "}"
   ]
  },
  {
   "cell_type": "markdown",
   "metadata": {},
   "source": [
    "No significant difference in total training time, or in training time or selfplay time with the following parameters compared to the original model \n",
    "args = {\n",
    "    'C': 2,\n",
    "    'MCTS_iterations': 20,\n",
    "    'num_parallel_selfplays': 2,\n",
    "    'iterations': 8,\n",
    "    'parallel_games': 50,\n",
    "    'batch_size': 64,\n",
    "    'dirichlet_epsilon': 0.25,\n",
    "    'dirichlet_alpha': 0.3,\n",
    "    'temperature': 1.25,\n",
    "    'load_model': False,\n",
    "    'save_frequency': 1,\n",
    "    'num_epochs': 4,\n",
    "}"
   ]
  },
  {
   "cell_type": "code",
   "execution_count": null,
   "metadata": {},
   "outputs": [],
   "source": [
    "model.load_state_dict(torch.load(\"model_ConnectFour.pt\"))\n",
    "optimizer.load_state_dict(torch.load(\"optimizer_ConnectFour.pt\")) "
   ]
  },
  {
   "cell_type": "code",
   "execution_count": 29,
   "metadata": {},
   "outputs": [
    {
     "name": "stdout",
     "output_type": "stream",
     "text": [
      "pygame 2.6.1 (SDL 2.28.4, Python 3.12.8)\n",
      "Hello from the pygame community. https://www.pygame.org/contribute.html\n"
     ]
    }
   ],
   "source": [
    "#model.load_state_dict(torch.load(\"model_ConnectFour.pt\"))\n",
    "\n",
    "import pygame\n",
    "import numpy as np\n",
    "import torch\n",
    "import time\n",
    "\n",
    "# Game settings\n",
    "ROWS, COLS = 6, 7\n",
    "SQUARESIZE = 100\n",
    "RADIUS = int(SQUARESIZE / 2 - 5)\n",
    "WIDTH, HEIGHT = COLS * SQUARESIZE, (ROWS + 1) * SQUARESIZE\n",
    "\n",
    "# Colors\n",
    "BLACK = (0, 0, 0)\n",
    "BLUE = (0, 0, 255)\n",
    "RED = (255, 0, 0)\n",
    "YELLOW = (255, 255, 0)\n",
    "\n",
    "def draw_board(screen, board):\n",
    "    screen.fill(BLACK)\n",
    "    for c in range(COLS):\n",
    "        for r in range(ROWS):\n",
    "            pygame.draw.rect(screen, BLUE, (c*SQUARESIZE, (r+1)*SQUARESIZE, SQUARESIZE, SQUARESIZE))\n",
    "            piece = board[r][c]\n",
    "            color = BLACK\n",
    "            if piece == 1:\n",
    "                color = RED\n",
    "            elif piece == -1:\n",
    "                color = YELLOW\n",
    "            pygame.draw.circle(screen, color, (int(c*SQUARESIZE + SQUARESIZE/2), int((r+1)*SQUARESIZE + SQUARESIZE/2)), RADIUS)\n",
    "    pygame.display.update()\n",
    "\n",
    "def get_column_from_mouse(x):\n",
    "    return int(x / SQUARESIZE)\n",
    "\n",
    "def get_row_to_drop(board, col):\n",
    "    for r in range(ROWS-1, -1, -1):\n",
    "        if board[r][col] == 0:\n",
    "            return r\n",
    "    return None\n",
    "\n",
    "def play_against_model_pygame(model, game, device, play_as=1):\n",
    "    pygame.init()\n",
    "    screen = pygame.display.set_mode((WIDTH, HEIGHT))\n",
    "    font = pygame.font.SysFont(\"monospace\", 50)\n",
    "    pygame.display.set_caption(\"Connect Four - Play vs Model\")\n",
    "\n",
    "    board = np.zeros((ROWS, COLS), dtype=int)\n",
    "    state = game.get_initial_state()\n",
    "    player = 1\n",
    "    game_over = False\n",
    "\n",
    "    draw_board(screen, board)\n",
    "\n",
    "    while not game_over:\n",
    "        for event in pygame.event.get():\n",
    "            if event.type == pygame.QUIT:\n",
    "                pygame.quit()\n",
    "                return\n",
    "\n",
    "            if player == play_as and event.type == pygame.MOUSEBUTTONDOWN:\n",
    "                col = get_column_from_mouse(event.pos[0])\n",
    "                valid_moves = game.get_valid_moves(state)\n",
    "                if valid_moves[col] == 1:\n",
    "                    row = get_row_to_drop(board, col)\n",
    "                    board[row][col] = player\n",
    "                    state = game.get_next_state(state, col, player)\n",
    "                    value, is_terminal = game.get_value_and_terminated(state, col)\n",
    "                    draw_board(screen, board)\n",
    "\n",
    "                    if is_terminal:\n",
    "                        game_over = True\n",
    "                        text = \"You win!\" if value == 1 else \"Draw!\" if value == 0 else \"Model wins!\"\n",
    "                        label = font.render(text, True, RED if value == 1 else YELLOW)\n",
    "                        screen.blit(label, (40, 10))\n",
    "                        pygame.display.update()\n",
    "                        time.sleep(3)\n",
    "                        break\n",
    "\n",
    "                    player = game.get_opponent(player)\n",
    "\n",
    "        if player != play_as and not game_over:\n",
    "            pygame.time.wait(500)\n",
    "            encoded = torch.tensor(game.get_encoded_state(state), dtype=torch.float32, device=device).unsqueeze(0)\n",
    "            with torch.no_grad():\n",
    "                policy_logits, _ = model(encoded)\n",
    "                policy = torch.softmax(policy_logits, dim=1).cpu().numpy()[0]\n",
    "                valid_moves = game.get_valid_moves(state)\n",
    "                policy *= valid_moves\n",
    "                if policy.sum() == 0:\n",
    "                    policy = valid_moves / valid_moves.sum()\n",
    "                else:\n",
    "                    policy /= policy.sum()\n",
    "                action = np.random.choice(game.action_size, p=policy)\n",
    "\n",
    "            row = get_row_to_drop(board, action)\n",
    "            board[row][action] = player\n",
    "            state = game.get_next_state(state, action, player)\n",
    "            value, is_terminal = game.get_value_and_terminated(state, action)\n",
    "            draw_board(screen, board)\n",
    "\n",
    "            if is_terminal:\n",
    "                game_over = True\n",
    "                text = \"Model wins!\" if value == 1 else \"Draw!\" if value == 0 else \"You win!\"\n",
    "                label = font.render(text, True, YELLOW if value == 1 else RED)\n",
    "                screen.blit(label, (40, 10))\n",
    "                pygame.display.update()\n",
    "                time.sleep(3)\n",
    "                break\n",
    "\n",
    "            player = game.get_opponent(player)\n",
    "\n",
    "    pygame.quit()\n",
    "\n"
   ]
  },
  {
   "cell_type": "code",
   "execution_count": 30,
   "metadata": {},
   "outputs": [],
   "source": [
    "model.eval()\n",
    "play_against_model_pygame(model, game, device, play_as=1)\n"
   ]
  },
  {
   "cell_type": "code",
   "execution_count": null,
   "metadata": {},
   "outputs": [],
   "source": []
  }
 ],
 "metadata": {
  "kernelspec": {
   "display_name": "Python 3",
   "language": "python",
   "name": "python3"
  },
  "language_info": {
   "codemirror_mode": {
    "name": "ipython",
    "version": 3
   },
   "file_extension": ".py",
   "mimetype": "text/x-python",
   "name": "python",
   "nbconvert_exporter": "python",
   "pygments_lexer": "ipython3",
   "version": "3.12.8"
  }
 },
 "nbformat": 4,
 "nbformat_minor": 2
}
